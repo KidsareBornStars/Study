{
  "nbformat": 4,
  "nbformat_minor": 0,
  "metadata": {
    "colab": {
      "name": "Balls Classification_Data Augmentation",
      "provenance": [],
      "collapsed_sections": [],
      "mount_file_id": "1VrW20DxdQQ-xG1SQ113ENwhbqJ9aLLbN",
      "authorship_tag": "ABX9TyM3FhCSGzxink1GYZIGAfmC",
      "include_colab_link": true
    },
    "kernelspec": {
      "name": "python3",
      "display_name": "Python 3"
    },
    "language_info": {
      "name": "python"
    },
    "gpuClass": "standard",
    "accelerator": "GPU"
  },
  "cells": [
    {
      "cell_type": "markdown",
      "metadata": {
        "id": "view-in-github",
        "colab_type": "text"
      },
      "source": [
        "<a href=\"https://colab.research.google.com/github/KidsareBornStars/Study/blob/main/Balls_Classification_Data_Augmentation.ipynb\" target=\"_parent\"><img src=\"https://colab.research.google.com/assets/colab-badge.svg\" alt=\"Open In Colab\"/></a>"
      ]
    },
    {
      "cell_type": "code",
      "execution_count": 1,
      "metadata": {
        "colab": {
          "base_uri": "https://localhost:8080/"
        },
        "id": "ku9WZShvxD6c",
        "outputId": "c192e20f-d2fd-423e-c9ee-3a2816d025dc"
      },
      "outputs": [
        {
          "output_type": "stream",
          "name": "stdout",
          "text": [
            "/content/drive/MyDrive/balls\n"
          ]
        }
      ],
      "source": [
        "%cd /content/drive/MyDrive/balls"
      ]
    },
    {
      "cell_type": "code",
      "source": [
        "# Importing Libraries\n",
        "import os\n",
        "import pandas as pd\n",
        "import numpy as np\n",
        "import matplotlib.pyplot as plt\n",
        "import torch\n",
        "from torch import nn \n",
        "import torch.utils.data as data\n",
        "from torchvision import transforms, datasets, models\n",
        "import torch.optim as optim\n",
        "from torchsummary import summary"
      ],
      "metadata": {
        "id": "TC2w5n0izFot"
      },
      "execution_count": 2,
      "outputs": []
    },
    {
      "cell_type": "code",
      "source": [
        "base_dir = \"/content/drive/MyDrive/balls\"\n",
        "\n",
        "train_dir = os.path.join(base_dir,\"train\")\n",
        "test_dir = os.path.join(base_dir,\"test\")\n",
        "valid_dir = os.path.join(base_dir,\"valid\")"
      ],
      "metadata": {
        "id": "1s3bzxXmzP16"
      },
      "execution_count": 4,
      "outputs": []
    },
    {
      "cell_type": "code",
      "source": [
        "# Data Augmentation을 위하여 RandomRotation, RandomResizedCrop, RandomHorizontalFlip, 적용.\n",
        "transform = {\"train\": transforms.Compose([transforms.RandomRotation(45),\n",
        "                                          transforms.RandomResizedCrop(128),\n",
        "                                          transforms.RandomHorizontalFlip(),\n",
        "                                          transforms.RandomVerticalFlip(),\n",
        "                                          transforms.ToTensor(),\n",
        "                                          transforms.Normalize([0.5,],[0.5,])\n",
        "                                          ]),\n",
        "             \"test\": transforms.Compose([transforms.ToTensor(),transforms.Normalize([0.5,],[0.5,]),transforms.Resize(128)])}"
      ],
      "metadata": {
        "id": "aobv6BfDzSh1"
      },
      "execution_count": 72,
      "outputs": []
    },
    {
      "cell_type": "code",
      "source": [
        "train_data = datasets.ImageFolder(root=train_dir, transform = transform[\"train\"])\n",
        "test_data = datasets.ImageFolder(root=test_dir, transform = transform[\"test\"])\n",
        "valid_data = datasets.ImageFolder(root=valid_dir, transform = transform[\"test\"])"
      ],
      "metadata": {
        "id": "of4g503F0RN_"
      },
      "execution_count": 73,
      "outputs": []
    },
    {
      "cell_type": "code",
      "source": [
        "device = torch.device(\"cuda:0\" if torch.cuda.is_available() else \"cpu\") # cpu환경에서의 학습이 느려서 gpu환경에서 학습"
      ],
      "metadata": {
        "id": "49FMJRfyMb-e"
      },
      "execution_count": 74,
      "outputs": []
    },
    {
      "cell_type": "code",
      "source": [
        "device"
      ],
      "metadata": {
        "colab": {
          "base_uri": "https://localhost:8080/"
        },
        "id": "AL1zwjbf0acQ",
        "outputId": "dbf40415-d79c-41ba-c481-593c657cfa48"
      },
      "execution_count": 75,
      "outputs": [
        {
          "output_type": "execute_result",
          "data": {
            "text/plain": [
              "device(type='cuda', index=0)"
            ]
          },
          "metadata": {},
          "execution_count": 75
        }
      ]
    },
    {
      "cell_type": "code",
      "source": [
        "train_loader = data.DataLoader(train_data,64,True)\n",
        "test_loader = data.DataLoader(test_data,64,False)\n",
        "valid_loader = data.DataLoader(valid_data,64,False)"
      ],
      "metadata": {
        "id": "f9hRh0G43nNJ"
      },
      "execution_count": 76,
      "outputs": []
    },
    {
      "cell_type": "code",
      "source": [
        "def train(epoch):\n",
        "    model.train()\n",
        "\n",
        "    train_loss = 0\n",
        "    correct = 0\n",
        "    for i, (input,label) in enumerate(train_loader):\n",
        "        input=input.to(device)\n",
        "        label=label.to(device)\n",
        "        output = model(input)\n",
        "        loss = criterion(output,label)\n",
        "        optimizer.zero_grad()\n",
        "        loss.backward()\n",
        "        optimizer.step()\n",
        "\n",
        "        train_loss += loss.item()\n",
        "        correct += (output.argmax(dim=1) == label).type(torch.float).sum().item()\n",
        "\n",
        "        if (i+1)%10 == 0:\n",
        "            print('Train Epoch: {} [{}/{} ({:.0f}%)] \\tLoss: {:.3f} \\tAccuracy: {:.2f}%'.format(\n",
        "            epoch+1,\n",
        "            (i+1) * len(input),\n",
        "            len(train_loader.dataset),\n",
        "            100. * (i+1) / len(train_loader),\n",
        "            loss.item(),\n",
        "            100. * correct / ((i+1) * len(input))))"
      ],
      "metadata": {
        "id": "-PPpQS8C3f_s"
      },
      "execution_count": 77,
      "outputs": []
    },
    {
      "cell_type": "code",
      "source": [
        "def test(data_loader):\n",
        "    model.eval()\n",
        "\n",
        "    test_loss =0\n",
        "    correct = 0\n",
        "    for input,label in data_loader:\n",
        "        input,label = input.to(device),label.to(device)\n",
        "        output = model(input)\n",
        "\n",
        "        test_loss += criterion(output,label).item()\n",
        "        correct += (output.argmax(dim=1)==label).type(torch.float).sum().item()\n",
        "\n",
        "    test_loss /= len(test_loader)\n",
        "    accuracy  = 100. * correct / len(valid_loader.dataset)\n",
        "\n",
        "    print(f\"\\nTest set: Average loss: {test_loss:.2f}, Accuracy: {accuracy:.0f}%\\n\") "
      ],
      "metadata": {
        "id": "GQSMa8E-3j8T"
      },
      "execution_count": 78,
      "outputs": []
    },
    {
      "cell_type": "markdown",
      "source": [
        "##Normal CNN"
      ],
      "metadata": {
        "id": "aoJIqVue3dWZ"
      }
    },
    {
      "cell_type": "code",
      "source": [
        "class CNN(nn.Module):\n",
        "    def __init__(self):\n",
        "        super().__init__()\n",
        "        self.layer1 = nn.Sequential(\n",
        "            nn.Conv2d(3,16,3,padding=1),\n",
        "            nn.ReLU(),\n",
        "            nn.MaxPool2d(2,2))\n",
        "        self.layer2 = nn.Sequential(\n",
        "            nn.Conv2d(16,8,3,padding=1),\n",
        "            nn.ReLU(),\n",
        "            nn.MaxPool2d(2,2))\n",
        "        self.fc = nn.Sequential(\n",
        "            nn.Linear(8*32*32,32),\n",
        "            nn.ReLU(),\n",
        "            nn.Linear(32,26))\n",
        "    \n",
        "    def forward(self,x):\n",
        "        x = self.layer1(x)\n",
        "        x = self.layer2(x)\n",
        "        x = torch.flatten(x,1)\n",
        "        x = self.fc(x)\n",
        "        return x"
      ],
      "metadata": {
        "id": "A5kWsJVp0ePT"
      },
      "execution_count": 79,
      "outputs": []
    },
    {
      "cell_type": "code",
      "source": [
        "criterion=nn.CrossEntropyLoss()"
      ],
      "metadata": {
        "id": "EMNDo2AI4LWL"
      },
      "execution_count": 80,
      "outputs": []
    },
    {
      "cell_type": "code",
      "source": [
        "# \bAccuracy가 비슷해진 것을 확인할 수 있다\n",
        "model = CNN().to(device)\n",
        "optimizer = optim.Adam(model.parameters(),lr=1e-3)\n",
        "for epoch in range(15):\n",
        "    train(epoch)\n",
        "    test(valid_loader)"
      ],
      "metadata": {
        "colab": {
          "base_uri": "https://localhost:8080/"
        },
        "id": "Q4r041pW3lXs",
        "outputId": "e11b66bb-f230-43ab-964e-209adf6759f1"
      },
      "execution_count": 81,
      "outputs": [
        {
          "output_type": "stream",
          "name": "stdout",
          "text": [
            "Train Epoch: 1 [640/3051 (21%)] \tLoss: 3.146 \tAccuracy: 6.72%\n",
            "Train Epoch: 1 [1280/3051 (42%)] \tLoss: 3.066 \tAccuracy: 8.20%\n",
            "Train Epoch: 1 [1920/3051 (62%)] \tLoss: 3.047 \tAccuracy: 10.36%\n",
            "Train Epoch: 1 [2560/3051 (83%)] \tLoss: 2.987 \tAccuracy: 10.66%\n",
            "\n",
            "Test set: Average loss: 2.99, Accuracy: 12%\n",
            "\n",
            "Train Epoch: 2 [640/3051 (21%)] \tLoss: 2.711 \tAccuracy: 17.97%\n",
            "Train Epoch: 2 [1280/3051 (42%)] \tLoss: 2.507 \tAccuracy: 21.17%\n",
            "Train Epoch: 2 [1920/3051 (62%)] \tLoss: 2.432 \tAccuracy: 22.55%\n",
            "Train Epoch: 2 [2560/3051 (83%)] \tLoss: 2.571 \tAccuracy: 22.11%\n",
            "\n",
            "Test set: Average loss: 2.88, Accuracy: 27%\n",
            "\n",
            "Train Epoch: 3 [640/3051 (21%)] \tLoss: 2.289 \tAccuracy: 27.50%\n",
            "Train Epoch: 3 [1280/3051 (42%)] \tLoss: 2.455 \tAccuracy: 26.64%\n",
            "Train Epoch: 3 [1920/3051 (62%)] \tLoss: 2.382 \tAccuracy: 27.60%\n",
            "Train Epoch: 3 [2560/3051 (83%)] \tLoss: 2.393 \tAccuracy: 27.85%\n",
            "\n",
            "Test set: Average loss: 2.44, Accuracy: 32%\n",
            "\n",
            "Train Epoch: 4 [640/3051 (21%)] \tLoss: 2.347 \tAccuracy: 32.97%\n",
            "Train Epoch: 4 [1280/3051 (42%)] \tLoss: 2.365 \tAccuracy: 33.28%\n",
            "Train Epoch: 4 [1920/3051 (62%)] \tLoss: 2.557 \tAccuracy: 33.18%\n",
            "Train Epoch: 4 [2560/3051 (83%)] \tLoss: 2.062 \tAccuracy: 33.28%\n",
            "\n",
            "Test set: Average loss: 2.34, Accuracy: 36%\n",
            "\n",
            "Train Epoch: 5 [640/3051 (21%)] \tLoss: 2.335 \tAccuracy: 37.19%\n",
            "Train Epoch: 5 [1280/3051 (42%)] \tLoss: 2.004 \tAccuracy: 37.81%\n",
            "Train Epoch: 5 [1920/3051 (62%)] \tLoss: 2.336 \tAccuracy: 37.08%\n",
            "Train Epoch: 5 [2560/3051 (83%)] \tLoss: 2.164 \tAccuracy: 36.99%\n",
            "\n",
            "Test set: Average loss: 2.28, Accuracy: 34%\n",
            "\n",
            "Train Epoch: 6 [640/3051 (21%)] \tLoss: 2.352 \tAccuracy: 40.78%\n",
            "Train Epoch: 6 [1280/3051 (42%)] \tLoss: 2.128 \tAccuracy: 38.91%\n",
            "Train Epoch: 6 [1920/3051 (62%)] \tLoss: 1.884 \tAccuracy: 38.65%\n",
            "Train Epoch: 6 [2560/3051 (83%)] \tLoss: 1.866 \tAccuracy: 39.02%\n",
            "\n",
            "Test set: Average loss: 1.95, Accuracy: 39%\n",
            "\n",
            "Train Epoch: 7 [640/3051 (21%)] \tLoss: 2.183 \tAccuracy: 39.84%\n",
            "Train Epoch: 7 [1280/3051 (42%)] \tLoss: 2.384 \tAccuracy: 40.47%\n",
            "Train Epoch: 7 [1920/3051 (62%)] \tLoss: 2.287 \tAccuracy: 39.43%\n",
            "Train Epoch: 7 [2560/3051 (83%)] \tLoss: 1.978 \tAccuracy: 39.88%\n",
            "\n",
            "Test set: Average loss: 2.10, Accuracy: 43%\n",
            "\n",
            "Train Epoch: 8 [640/3051 (21%)] \tLoss: 1.980 \tAccuracy: 41.41%\n",
            "Train Epoch: 8 [1280/3051 (42%)] \tLoss: 1.981 \tAccuracy: 41.64%\n",
            "Train Epoch: 8 [1920/3051 (62%)] \tLoss: 2.099 \tAccuracy: 41.15%\n",
            "Train Epoch: 8 [2560/3051 (83%)] \tLoss: 2.243 \tAccuracy: 40.59%\n",
            "\n",
            "Test set: Average loss: 1.97, Accuracy: 42%\n",
            "\n",
            "Train Epoch: 9 [640/3051 (21%)] \tLoss: 1.789 \tAccuracy: 43.75%\n",
            "Train Epoch: 9 [1280/3051 (42%)] \tLoss: 1.840 \tAccuracy: 44.06%\n",
            "Train Epoch: 9 [1920/3051 (62%)] \tLoss: 1.798 \tAccuracy: 43.70%\n",
            "Train Epoch: 9 [2560/3051 (83%)] \tLoss: 1.954 \tAccuracy: 44.18%\n",
            "\n",
            "Test set: Average loss: 2.48, Accuracy: 40%\n",
            "\n",
            "Train Epoch: 10 [640/3051 (21%)] \tLoss: 2.111 \tAccuracy: 41.88%\n",
            "Train Epoch: 10 [1280/3051 (42%)] \tLoss: 1.828 \tAccuracy: 42.34%\n",
            "Train Epoch: 10 [1920/3051 (62%)] \tLoss: 2.011 \tAccuracy: 42.40%\n",
            "Train Epoch: 10 [2560/3051 (83%)] \tLoss: 2.019 \tAccuracy: 42.97%\n",
            "\n",
            "Test set: Average loss: 1.98, Accuracy: 35%\n",
            "\n",
            "Train Epoch: 11 [640/3051 (21%)] \tLoss: 1.919 \tAccuracy: 40.00%\n",
            "Train Epoch: 11 [1280/3051 (42%)] \tLoss: 2.059 \tAccuracy: 42.03%\n",
            "Train Epoch: 11 [1920/3051 (62%)] \tLoss: 1.963 \tAccuracy: 42.71%\n",
            "Train Epoch: 11 [2560/3051 (83%)] \tLoss: 2.008 \tAccuracy: 43.75%\n",
            "\n",
            "Test set: Average loss: 1.81, Accuracy: 43%\n",
            "\n",
            "Train Epoch: 12 [640/3051 (21%)] \tLoss: 1.880 \tAccuracy: 44.69%\n",
            "Train Epoch: 12 [1280/3051 (42%)] \tLoss: 1.939 \tAccuracy: 43.98%\n",
            "Train Epoch: 12 [1920/3051 (62%)] \tLoss: 1.890 \tAccuracy: 44.22%\n",
            "Train Epoch: 12 [2560/3051 (83%)] \tLoss: 2.126 \tAccuracy: 43.87%\n",
            "\n",
            "Test set: Average loss: 2.05, Accuracy: 43%\n",
            "\n",
            "Train Epoch: 13 [640/3051 (21%)] \tLoss: 1.764 \tAccuracy: 43.91%\n",
            "Train Epoch: 13 [1280/3051 (42%)] \tLoss: 1.947 \tAccuracy: 42.81%\n",
            "Train Epoch: 13 [1920/3051 (62%)] \tLoss: 1.940 \tAccuracy: 43.96%\n",
            "Train Epoch: 13 [2560/3051 (83%)] \tLoss: 1.767 \tAccuracy: 44.65%\n",
            "\n",
            "Test set: Average loss: 1.95, Accuracy: 41%\n",
            "\n",
            "Train Epoch: 14 [640/3051 (21%)] \tLoss: 1.748 \tAccuracy: 45.47%\n",
            "Train Epoch: 14 [1280/3051 (42%)] \tLoss: 1.977 \tAccuracy: 45.86%\n",
            "Train Epoch: 14 [1920/3051 (62%)] \tLoss: 1.821 \tAccuracy: 45.89%\n",
            "Train Epoch: 14 [2560/3051 (83%)] \tLoss: 1.820 \tAccuracy: 46.52%\n",
            "\n",
            "Test set: Average loss: 1.96, Accuracy: 45%\n",
            "\n",
            "Train Epoch: 15 [640/3051 (21%)] \tLoss: 1.839 \tAccuracy: 47.03%\n",
            "Train Epoch: 15 [1280/3051 (42%)] \tLoss: 1.634 \tAccuracy: 48.52%\n",
            "Train Epoch: 15 [1920/3051 (62%)] \tLoss: 1.785 \tAccuracy: 48.49%\n",
            "Train Epoch: 15 [2560/3051 (83%)] \tLoss: 2.114 \tAccuracy: 47.70%\n",
            "\n",
            "Test set: Average loss: 1.97, Accuracy: 43%\n",
            "\n"
          ]
        }
      ]
    },
    {
      "cell_type": "markdown",
      "source": [
        "##Expanding Channels"
      ],
      "metadata": {
        "id": "NrKmD4b9AIYO"
      }
    },
    {
      "cell_type": "code",
      "source": [
        "# 더 많은 레이어를 생성하고 채널을 늘려보았다\n",
        "class CNN2(nn.Module):\n",
        "    def __init__(self):\n",
        "        super().__init__()\n",
        "        self.layer1 = nn.Sequential(\n",
        "            nn.Conv2d(3,64,3,padding=1),\n",
        "            nn.ReLU(),\n",
        "            nn.MaxPool2d(2,2))\n",
        "        self.layer2 = nn.Sequential(\n",
        "            nn.Conv2d(64,32,3,padding=1),\n",
        "            nn.ReLU(),\n",
        "            nn.MaxPool2d(2,2))\n",
        "        self.layer3 = nn.Sequential(\n",
        "            nn.Conv2d(32,16,3,padding=1),\n",
        "            nn.ReLU(),\n",
        "            nn.MaxPool2d(2,2))\n",
        "        self.fc = nn.Sequential(\n",
        "            nn.Linear(16*16*16,64),\n",
        "            nn.ReLU(),\n",
        "            nn.Linear(64,32),\n",
        "            nn.ReLU(),\n",
        "            nn.Linear(32,26))\n",
        "    \n",
        "    def forward(self,x):\n",
        "        x = self.layer1(x)\n",
        "        x = self.layer2(x)\n",
        "        x = self.layer3(x)\n",
        "        x = torch.flatten(x,1)\n",
        "        x = self.fc(x)\n",
        "        return x"
      ],
      "metadata": {
        "id": "pfw_lcFVALSs"
      },
      "execution_count": 82,
      "outputs": []
    },
    {
      "cell_type": "code",
      "source": [
        "# 역시 overfitting은 어느 정도 해결된 것으로 보인다\n",
        "model = CNN2().to(device)\n",
        "optimizer = optim.Adam(model.parameters(),lr=1e-3)\n",
        "for epoch in range(15):\n",
        "    train(epoch)\n",
        "    test(valid_loader)"
      ],
      "metadata": {
        "colab": {
          "base_uri": "https://localhost:8080/"
        },
        "id": "NZO4tYQPALvX",
        "outputId": "296a6a72-0d5f-424e-f783-d252c6a278cb"
      },
      "execution_count": 83,
      "outputs": [
        {
          "output_type": "stream",
          "name": "stdout",
          "text": [
            "Train Epoch: 1 [640/3051 (21%)] \tLoss: 3.246 \tAccuracy: 5.31%\n",
            "Train Epoch: 1 [1280/3051 (42%)] \tLoss: 3.083 \tAccuracy: 6.25%\n",
            "Train Epoch: 1 [1920/3051 (62%)] \tLoss: 3.162 \tAccuracy: 7.45%\n",
            "Train Epoch: 1 [2560/3051 (83%)] \tLoss: 3.073 \tAccuracy: 8.79%\n",
            "\n",
            "Test set: Average loss: 3.21, Accuracy: 10%\n",
            "\n",
            "Train Epoch: 2 [640/3051 (21%)] \tLoss: 2.848 \tAccuracy: 15.31%\n",
            "Train Epoch: 2 [1280/3051 (42%)] \tLoss: 2.835 \tAccuracy: 15.70%\n",
            "Train Epoch: 2 [1920/3051 (62%)] \tLoss: 2.871 \tAccuracy: 15.16%\n",
            "Train Epoch: 2 [2560/3051 (83%)] \tLoss: 2.775 \tAccuracy: 15.43%\n",
            "\n",
            "Test set: Average loss: 2.98, Accuracy: 22%\n",
            "\n",
            "Train Epoch: 3 [640/3051 (21%)] \tLoss: 2.372 \tAccuracy: 22.50%\n",
            "Train Epoch: 3 [1280/3051 (42%)] \tLoss: 2.549 \tAccuracy: 22.03%\n",
            "Train Epoch: 3 [1920/3051 (62%)] \tLoss: 2.447 \tAccuracy: 22.14%\n",
            "Train Epoch: 3 [2560/3051 (83%)] \tLoss: 2.558 \tAccuracy: 22.77%\n",
            "\n",
            "Test set: Average loss: 2.76, Accuracy: 25%\n",
            "\n",
            "Train Epoch: 4 [640/3051 (21%)] \tLoss: 2.380 \tAccuracy: 26.25%\n",
            "Train Epoch: 4 [1280/3051 (42%)] \tLoss: 2.318 \tAccuracy: 27.50%\n",
            "Train Epoch: 4 [1920/3051 (62%)] \tLoss: 2.360 \tAccuracy: 27.55%\n",
            "Train Epoch: 4 [2560/3051 (83%)] \tLoss: 2.280 \tAccuracy: 28.24%\n",
            "\n",
            "Test set: Average loss: 2.52, Accuracy: 34%\n",
            "\n",
            "Train Epoch: 5 [640/3051 (21%)] \tLoss: 2.537 \tAccuracy: 32.19%\n",
            "Train Epoch: 5 [1280/3051 (42%)] \tLoss: 2.447 \tAccuracy: 33.36%\n",
            "Train Epoch: 5 [1920/3051 (62%)] \tLoss: 2.584 \tAccuracy: 32.76%\n",
            "Train Epoch: 5 [2560/3051 (83%)] \tLoss: 2.224 \tAccuracy: 32.46%\n",
            "\n",
            "Test set: Average loss: 2.55, Accuracy: 35%\n",
            "\n",
            "Train Epoch: 6 [640/3051 (21%)] \tLoss: 2.017 \tAccuracy: 35.31%\n",
            "Train Epoch: 6 [1280/3051 (42%)] \tLoss: 2.065 \tAccuracy: 36.72%\n",
            "Train Epoch: 6 [1920/3051 (62%)] \tLoss: 2.202 \tAccuracy: 35.83%\n",
            "Train Epoch: 6 [2560/3051 (83%)] \tLoss: 2.120 \tAccuracy: 35.82%\n",
            "\n",
            "Test set: Average loss: 2.37, Accuracy: 36%\n",
            "\n",
            "Train Epoch: 7 [640/3051 (21%)] \tLoss: 2.141 \tAccuracy: 35.31%\n",
            "Train Epoch: 7 [1280/3051 (42%)] \tLoss: 2.061 \tAccuracy: 37.66%\n",
            "Train Epoch: 7 [1920/3051 (62%)] \tLoss: 2.002 \tAccuracy: 39.48%\n",
            "Train Epoch: 7 [2560/3051 (83%)] \tLoss: 2.260 \tAccuracy: 38.59%\n",
            "\n",
            "Test set: Average loss: 2.12, Accuracy: 36%\n",
            "\n",
            "Train Epoch: 8 [640/3051 (21%)] \tLoss: 2.040 \tAccuracy: 37.19%\n",
            "Train Epoch: 8 [1280/3051 (42%)] \tLoss: 2.337 \tAccuracy: 37.97%\n",
            "Train Epoch: 8 [1920/3051 (62%)] \tLoss: 1.850 \tAccuracy: 40.31%\n",
            "Train Epoch: 8 [2560/3051 (83%)] \tLoss: 2.010 \tAccuracy: 42.03%\n",
            "\n",
            "Test set: Average loss: 2.01, Accuracy: 37%\n",
            "\n",
            "Train Epoch: 9 [640/3051 (21%)] \tLoss: 1.792 \tAccuracy: 46.09%\n",
            "Train Epoch: 9 [1280/3051 (42%)] \tLoss: 1.703 \tAccuracy: 45.16%\n",
            "Train Epoch: 9 [1920/3051 (62%)] \tLoss: 2.280 \tAccuracy: 43.91%\n",
            "Train Epoch: 9 [2560/3051 (83%)] \tLoss: 1.985 \tAccuracy: 44.30%\n",
            "\n",
            "Test set: Average loss: 2.07, Accuracy: 48%\n",
            "\n",
            "Train Epoch: 10 [640/3051 (21%)] \tLoss: 1.911 \tAccuracy: 46.09%\n",
            "Train Epoch: 10 [1280/3051 (42%)] \tLoss: 1.882 \tAccuracy: 45.39%\n",
            "Train Epoch: 10 [1920/3051 (62%)] \tLoss: 1.941 \tAccuracy: 45.31%\n",
            "Train Epoch: 10 [2560/3051 (83%)] \tLoss: 1.889 \tAccuracy: 45.74%\n",
            "\n",
            "Test set: Average loss: 1.77, Accuracy: 50%\n",
            "\n",
            "Train Epoch: 11 [640/3051 (21%)] \tLoss: 2.228 \tAccuracy: 49.38%\n",
            "Train Epoch: 11 [1280/3051 (42%)] \tLoss: 1.519 \tAccuracy: 50.00%\n",
            "Train Epoch: 11 [1920/3051 (62%)] \tLoss: 1.885 \tAccuracy: 48.33%\n",
            "Train Epoch: 11 [2560/3051 (83%)] \tLoss: 1.832 \tAccuracy: 48.20%\n",
            "\n",
            "Test set: Average loss: 1.90, Accuracy: 52%\n",
            "\n",
            "Train Epoch: 12 [640/3051 (21%)] \tLoss: 1.419 \tAccuracy: 50.00%\n",
            "Train Epoch: 12 [1280/3051 (42%)] \tLoss: 1.375 \tAccuracy: 49.45%\n",
            "Train Epoch: 12 [1920/3051 (62%)] \tLoss: 1.725 \tAccuracy: 49.22%\n",
            "Train Epoch: 12 [2560/3051 (83%)] \tLoss: 1.720 \tAccuracy: 49.41%\n",
            "\n",
            "Test set: Average loss: 1.57, Accuracy: 57%\n",
            "\n",
            "Train Epoch: 13 [640/3051 (21%)] \tLoss: 1.709 \tAccuracy: 50.00%\n",
            "Train Epoch: 13 [1280/3051 (42%)] \tLoss: 1.538 \tAccuracy: 50.23%\n",
            "Train Epoch: 13 [1920/3051 (62%)] \tLoss: 1.593 \tAccuracy: 50.52%\n",
            "Train Epoch: 13 [2560/3051 (83%)] \tLoss: 1.783 \tAccuracy: 51.25%\n",
            "\n",
            "Test set: Average loss: 1.74, Accuracy: 52%\n",
            "\n",
            "Train Epoch: 14 [640/3051 (21%)] \tLoss: 1.442 \tAccuracy: 50.62%\n",
            "Train Epoch: 14 [1280/3051 (42%)] \tLoss: 1.761 \tAccuracy: 50.62%\n",
            "Train Epoch: 14 [1920/3051 (62%)] \tLoss: 1.409 \tAccuracy: 51.72%\n",
            "Train Epoch: 14 [2560/3051 (83%)] \tLoss: 1.868 \tAccuracy: 50.98%\n",
            "\n",
            "Test set: Average loss: 1.57, Accuracy: 51%\n",
            "\n",
            "Train Epoch: 15 [640/3051 (21%)] \tLoss: 1.800 \tAccuracy: 47.97%\n",
            "Train Epoch: 15 [1280/3051 (42%)] \tLoss: 1.329 \tAccuracy: 51.02%\n",
            "Train Epoch: 15 [1920/3051 (62%)] \tLoss: 1.804 \tAccuracy: 51.04%\n",
            "Train Epoch: 15 [2560/3051 (83%)] \tLoss: 1.630 \tAccuracy: 51.13%\n",
            "\n",
            "Test set: Average loss: 1.57, Accuracy: 52%\n",
            "\n"
          ]
        }
      ]
    },
    {
      "cell_type": "markdown",
      "source": [
        "## + BN & DO"
      ],
      "metadata": {
        "id": "BbYDk1r46zdW"
      }
    },
    {
      "cell_type": "code",
      "source": [
        "class CNN_with_BN_DO(nn.Module):\n",
        "    def __init__(self):\n",
        "        super().__init__()\n",
        "        self.layer1 = nn.Sequential(\n",
        "            nn.Conv2d(3,64,3,padding=1),\n",
        "            nn.BatchNorm2d(64),\n",
        "            nn.ReLU(),\n",
        "            nn.Dropout(0.2),\n",
        "            nn.MaxPool2d(2,2))\n",
        "        self.layer2 = nn.Sequential(\n",
        "            nn.Conv2d(64,32,3,padding=1),\n",
        "            nn.BatchNorm2d(32),\n",
        "            nn.ReLU(),\n",
        "            nn.Dropout(0.2),\n",
        "            nn.MaxPool2d(2,2))\n",
        "        self.layer3 = nn.Sequential(\n",
        "            nn.Conv2d(32,16,3,padding=1),\n",
        "            nn.BatchNorm2d(16),\n",
        "            nn.ReLU(),\n",
        "            nn.Dropout(0.2),\n",
        "            nn.MaxPool2d(2,2))\n",
        "        self.fc = nn.Sequential(\n",
        "            nn.Linear(16*16*16,32),\n",
        "            nn.ReLU(),\n",
        "            nn.Linear(32,26))\n",
        "    def forward(self,x):\n",
        "        x = self.layer1(x)\n",
        "        x = self.layer2(x)\n",
        "        x = self.layer3(x)\n",
        "        x = torch.flatten(x,1)\n",
        "        x = self.fc(x)\n",
        "        return x"
      ],
      "metadata": {
        "id": "bRIEk3igANlq"
      },
      "execution_count": 92,
      "outputs": []
    },
    {
      "cell_type": "code",
      "source": [
        "# Epoch을 늘리면 학습이 잘 될 것 같다.\n",
        "model = CNN_with_BN_DO().to(device)\n",
        "optimizer = optim.Adam(model.parameters(),lr=1e-3)\n",
        "for epoch in range(15):\n",
        "    train(epoch)\n",
        "    test(valid_loader)"
      ],
      "metadata": {
        "colab": {
          "base_uri": "https://localhost:8080/"
        },
        "id": "K-5xgqSsE27R",
        "outputId": "8f2e7b07-f446-4677-a2a2-3fac6e930959"
      },
      "execution_count": 93,
      "outputs": [
        {
          "output_type": "stream",
          "name": "stdout",
          "text": [
            "Train Epoch: 1 [640/3051 (21%)] \tLoss: 2.954 \tAccuracy: 10.78%\n",
            "Train Epoch: 1 [1280/3051 (42%)] \tLoss: 2.695 \tAccuracy: 15.08%\n",
            "Train Epoch: 1 [1920/3051 (62%)] \tLoss: 2.820 \tAccuracy: 18.59%\n",
            "Train Epoch: 1 [2560/3051 (83%)] \tLoss: 3.008 \tAccuracy: 19.73%\n",
            "\n",
            "Test set: Average loss: 3.06, Accuracy: 26%\n",
            "\n",
            "Train Epoch: 2 [640/3051 (21%)] \tLoss: 2.495 \tAccuracy: 31.88%\n",
            "Train Epoch: 2 [1280/3051 (42%)] \tLoss: 2.380 \tAccuracy: 33.12%\n",
            "Train Epoch: 2 [1920/3051 (62%)] \tLoss: 2.134 \tAccuracy: 33.39%\n",
            "Train Epoch: 2 [2560/3051 (83%)] \tLoss: 2.137 \tAccuracy: 33.59%\n",
            "\n",
            "Test set: Average loss: 2.22, Accuracy: 35%\n",
            "\n",
            "Train Epoch: 3 [640/3051 (21%)] \tLoss: 2.320 \tAccuracy: 37.81%\n",
            "Train Epoch: 3 [1280/3051 (42%)] \tLoss: 2.203 \tAccuracy: 35.39%\n",
            "Train Epoch: 3 [1920/3051 (62%)] \tLoss: 2.261 \tAccuracy: 35.83%\n",
            "Train Epoch: 3 [2560/3051 (83%)] \tLoss: 2.169 \tAccuracy: 36.52%\n",
            "\n",
            "Test set: Average loss: 2.28, Accuracy: 42%\n",
            "\n",
            "Train Epoch: 4 [640/3051 (21%)] \tLoss: 1.896 \tAccuracy: 38.75%\n",
            "Train Epoch: 4 [1280/3051 (42%)] \tLoss: 2.042 \tAccuracy: 40.16%\n",
            "Train Epoch: 4 [1920/3051 (62%)] \tLoss: 1.784 \tAccuracy: 40.94%\n",
            "Train Epoch: 4 [2560/3051 (83%)] \tLoss: 2.089 \tAccuracy: 41.13%\n",
            "\n",
            "Test set: Average loss: 2.04, Accuracy: 38%\n",
            "\n",
            "Train Epoch: 5 [640/3051 (21%)] \tLoss: 2.086 \tAccuracy: 44.22%\n",
            "Train Epoch: 5 [1280/3051 (42%)] \tLoss: 2.143 \tAccuracy: 44.06%\n",
            "Train Epoch: 5 [1920/3051 (62%)] \tLoss: 1.837 \tAccuracy: 43.91%\n",
            "Train Epoch: 5 [2560/3051 (83%)] \tLoss: 2.016 \tAccuracy: 44.26%\n",
            "\n",
            "Test set: Average loss: 2.02, Accuracy: 52%\n",
            "\n",
            "Train Epoch: 6 [640/3051 (21%)] \tLoss: 1.532 \tAccuracy: 45.16%\n",
            "Train Epoch: 6 [1280/3051 (42%)] \tLoss: 2.146 \tAccuracy: 44.30%\n",
            "Train Epoch: 6 [1920/3051 (62%)] \tLoss: 2.093 \tAccuracy: 44.84%\n",
            "Train Epoch: 6 [2560/3051 (83%)] \tLoss: 1.905 \tAccuracy: 45.55%\n",
            "\n",
            "Test set: Average loss: 1.97, Accuracy: 42%\n",
            "\n",
            "Train Epoch: 7 [640/3051 (21%)] \tLoss: 1.788 \tAccuracy: 46.88%\n",
            "Train Epoch: 7 [1280/3051 (42%)] \tLoss: 1.682 \tAccuracy: 47.19%\n",
            "Train Epoch: 7 [1920/3051 (62%)] \tLoss: 1.760 \tAccuracy: 47.60%\n",
            "Train Epoch: 7 [2560/3051 (83%)] \tLoss: 2.328 \tAccuracy: 47.07%\n",
            "\n",
            "Test set: Average loss: 1.84, Accuracy: 55%\n",
            "\n",
            "Train Epoch: 8 [640/3051 (21%)] \tLoss: 1.950 \tAccuracy: 45.62%\n",
            "Train Epoch: 8 [1280/3051 (42%)] \tLoss: 1.544 \tAccuracy: 47.50%\n",
            "Train Epoch: 8 [1920/3051 (62%)] \tLoss: 1.630 \tAccuracy: 47.81%\n",
            "Train Epoch: 8 [2560/3051 (83%)] \tLoss: 1.975 \tAccuracy: 47.73%\n",
            "\n",
            "Test set: Average loss: 1.76, Accuracy: 53%\n",
            "\n",
            "Train Epoch: 9 [640/3051 (21%)] \tLoss: 1.875 \tAccuracy: 49.53%\n",
            "Train Epoch: 9 [1280/3051 (42%)] \tLoss: 1.905 \tAccuracy: 50.16%\n",
            "Train Epoch: 9 [1920/3051 (62%)] \tLoss: 1.997 \tAccuracy: 50.62%\n",
            "Train Epoch: 9 [2560/3051 (83%)] \tLoss: 2.158 \tAccuracy: 50.27%\n",
            "\n",
            "Test set: Average loss: 1.75, Accuracy: 53%\n",
            "\n",
            "Train Epoch: 10 [640/3051 (21%)] \tLoss: 1.519 \tAccuracy: 52.03%\n",
            "Train Epoch: 10 [1280/3051 (42%)] \tLoss: 1.725 \tAccuracy: 51.72%\n",
            "Train Epoch: 10 [1920/3051 (62%)] \tLoss: 1.332 \tAccuracy: 51.41%\n",
            "Train Epoch: 10 [2560/3051 (83%)] \tLoss: 1.580 \tAccuracy: 51.09%\n",
            "\n",
            "Test set: Average loss: 1.83, Accuracy: 47%\n",
            "\n",
            "Train Epoch: 11 [640/3051 (21%)] \tLoss: 1.644 \tAccuracy: 56.41%\n",
            "Train Epoch: 11 [1280/3051 (42%)] \tLoss: 1.559 \tAccuracy: 52.58%\n",
            "Train Epoch: 11 [1920/3051 (62%)] \tLoss: 1.732 \tAccuracy: 52.92%\n",
            "Train Epoch: 11 [2560/3051 (83%)] \tLoss: 2.099 \tAccuracy: 52.42%\n",
            "\n",
            "Test set: Average loss: 1.70, Accuracy: 51%\n",
            "\n",
            "Train Epoch: 12 [640/3051 (21%)] \tLoss: 1.636 \tAccuracy: 52.81%\n",
            "Train Epoch: 12 [1280/3051 (42%)] \tLoss: 1.398 \tAccuracy: 53.98%\n",
            "Train Epoch: 12 [1920/3051 (62%)] \tLoss: 1.200 \tAccuracy: 53.28%\n",
            "Train Epoch: 12 [2560/3051 (83%)] \tLoss: 1.552 \tAccuracy: 54.41%\n",
            "\n",
            "Test set: Average loss: 1.88, Accuracy: 48%\n",
            "\n",
            "Train Epoch: 13 [640/3051 (21%)] \tLoss: 1.807 \tAccuracy: 55.31%\n",
            "Train Epoch: 13 [1280/3051 (42%)] \tLoss: 1.529 \tAccuracy: 54.14%\n",
            "Train Epoch: 13 [1920/3051 (62%)] \tLoss: 1.764 \tAccuracy: 54.11%\n",
            "Train Epoch: 13 [2560/3051 (83%)] \tLoss: 1.649 \tAccuracy: 54.14%\n",
            "\n",
            "Test set: Average loss: 1.52, Accuracy: 54%\n",
            "\n",
            "Train Epoch: 14 [640/3051 (21%)] \tLoss: 1.607 \tAccuracy: 55.00%\n",
            "Train Epoch: 14 [1280/3051 (42%)] \tLoss: 1.429 \tAccuracy: 54.92%\n",
            "Train Epoch: 14 [1920/3051 (62%)] \tLoss: 1.645 \tAccuracy: 56.35%\n",
            "Train Epoch: 14 [2560/3051 (83%)] \tLoss: 1.514 \tAccuracy: 55.04%\n",
            "\n",
            "Test set: Average loss: 1.57, Accuracy: 58%\n",
            "\n",
            "Train Epoch: 15 [640/3051 (21%)] \tLoss: 1.935 \tAccuracy: 55.31%\n",
            "Train Epoch: 15 [1280/3051 (42%)] \tLoss: 1.663 \tAccuracy: 57.03%\n",
            "Train Epoch: 15 [1920/3051 (62%)] \tLoss: 1.089 \tAccuracy: 57.08%\n",
            "Train Epoch: 15 [2560/3051 (83%)] \tLoss: 1.513 \tAccuracy: 56.95%\n",
            "\n",
            "Test set: Average loss: 1.78, Accuracy: 50%\n",
            "\n"
          ]
        }
      ]
    },
    {
      "cell_type": "code",
      "source": [
        ""
      ],
      "metadata": {
        "id": "Azyv2ynhTGXL"
      },
      "execution_count": null,
      "outputs": []
    }
  ]
}