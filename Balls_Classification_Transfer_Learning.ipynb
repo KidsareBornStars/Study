{
  "nbformat": 4,
  "nbformat_minor": 0,
  "metadata": {
    "colab": {
      "name": "Balls Classification_Transfer Learning",
      "provenance": [],
      "collapsed_sections": [],
      "mount_file_id": "1yIRS-XrVblFrDg8nuUqD0_IX-81Uo8xd",
      "authorship_tag": "ABX9TyPTWBp1vMzXXXegqv3BrpBh",
      "include_colab_link": true
    },
    "kernelspec": {
      "name": "python3",
      "display_name": "Python 3"
    },
    "language_info": {
      "name": "python"
    },
    "accelerator": "GPU",
    "gpuClass": "standard",
    "widgets": {
      "application/vnd.jupyter.widget-state+json": {
        "352547091ec04604a96de819c74beb62": {
          "model_module": "@jupyter-widgets/controls",
          "model_name": "HBoxModel",
          "model_module_version": "1.5.0",
          "state": {
            "_dom_classes": [],
            "_model_module": "@jupyter-widgets/controls",
            "_model_module_version": "1.5.0",
            "_model_name": "HBoxModel",
            "_view_count": null,
            "_view_module": "@jupyter-widgets/controls",
            "_view_module_version": "1.5.0",
            "_view_name": "HBoxView",
            "box_style": "",
            "children": [
              "IPY_MODEL_c4597c7b190f46acb6c7c20b569a1dc0",
              "IPY_MODEL_47ac0e7dcd56426aad8d6653d7d76b2b",
              "IPY_MODEL_4551baca8d18428e80232ee354c3ca8e"
            ],
            "layout": "IPY_MODEL_d035beca88c04852b42acf2fe5a42be9"
          }
        },
        "c4597c7b190f46acb6c7c20b569a1dc0": {
          "model_module": "@jupyter-widgets/controls",
          "model_name": "HTMLModel",
          "model_module_version": "1.5.0",
          "state": {
            "_dom_classes": [],
            "_model_module": "@jupyter-widgets/controls",
            "_model_module_version": "1.5.0",
            "_model_name": "HTMLModel",
            "_view_count": null,
            "_view_module": "@jupyter-widgets/controls",
            "_view_module_version": "1.5.0",
            "_view_name": "HTMLView",
            "description": "",
            "description_tooltip": null,
            "layout": "IPY_MODEL_329016f77aab4f9d90241b255ba54d54",
            "placeholder": "​",
            "style": "IPY_MODEL_e46eb8bd3e544a409bc8cd2abc8b5153",
            "value": "100%"
          }
        },
        "47ac0e7dcd56426aad8d6653d7d76b2b": {
          "model_module": "@jupyter-widgets/controls",
          "model_name": "FloatProgressModel",
          "model_module_version": "1.5.0",
          "state": {
            "_dom_classes": [],
            "_model_module": "@jupyter-widgets/controls",
            "_model_module_version": "1.5.0",
            "_model_name": "FloatProgressModel",
            "_view_count": null,
            "_view_module": "@jupyter-widgets/controls",
            "_view_module_version": "1.5.0",
            "_view_name": "ProgressView",
            "bar_style": "success",
            "description": "",
            "description_tooltip": null,
            "layout": "IPY_MODEL_2832260ee64c4bcdb87f76c2dfdfa230",
            "max": 46830571,
            "min": 0,
            "orientation": "horizontal",
            "style": "IPY_MODEL_ab73917230c642d6973a5c16aa321fb2",
            "value": 46830571
          }
        },
        "4551baca8d18428e80232ee354c3ca8e": {
          "model_module": "@jupyter-widgets/controls",
          "model_name": "HTMLModel",
          "model_module_version": "1.5.0",
          "state": {
            "_dom_classes": [],
            "_model_module": "@jupyter-widgets/controls",
            "_model_module_version": "1.5.0",
            "_model_name": "HTMLModel",
            "_view_count": null,
            "_view_module": "@jupyter-widgets/controls",
            "_view_module_version": "1.5.0",
            "_view_name": "HTMLView",
            "description": "",
            "description_tooltip": null,
            "layout": "IPY_MODEL_df9d4523829b495dbe46f0645f98b01b",
            "placeholder": "​",
            "style": "IPY_MODEL_ccb864f222cd4db5b3fe4a0dd2c0504f",
            "value": " 44.7M/44.7M [00:00&lt;00:00, 198MB/s]"
          }
        },
        "d035beca88c04852b42acf2fe5a42be9": {
          "model_module": "@jupyter-widgets/base",
          "model_name": "LayoutModel",
          "model_module_version": "1.2.0",
          "state": {
            "_model_module": "@jupyter-widgets/base",
            "_model_module_version": "1.2.0",
            "_model_name": "LayoutModel",
            "_view_count": null,
            "_view_module": "@jupyter-widgets/base",
            "_view_module_version": "1.2.0",
            "_view_name": "LayoutView",
            "align_content": null,
            "align_items": null,
            "align_self": null,
            "border": null,
            "bottom": null,
            "display": null,
            "flex": null,
            "flex_flow": null,
            "grid_area": null,
            "grid_auto_columns": null,
            "grid_auto_flow": null,
            "grid_auto_rows": null,
            "grid_column": null,
            "grid_gap": null,
            "grid_row": null,
            "grid_template_areas": null,
            "grid_template_columns": null,
            "grid_template_rows": null,
            "height": null,
            "justify_content": null,
            "justify_items": null,
            "left": null,
            "margin": null,
            "max_height": null,
            "max_width": null,
            "min_height": null,
            "min_width": null,
            "object_fit": null,
            "object_position": null,
            "order": null,
            "overflow": null,
            "overflow_x": null,
            "overflow_y": null,
            "padding": null,
            "right": null,
            "top": null,
            "visibility": null,
            "width": null
          }
        },
        "329016f77aab4f9d90241b255ba54d54": {
          "model_module": "@jupyter-widgets/base",
          "model_name": "LayoutModel",
          "model_module_version": "1.2.0",
          "state": {
            "_model_module": "@jupyter-widgets/base",
            "_model_module_version": "1.2.0",
            "_model_name": "LayoutModel",
            "_view_count": null,
            "_view_module": "@jupyter-widgets/base",
            "_view_module_version": "1.2.0",
            "_view_name": "LayoutView",
            "align_content": null,
            "align_items": null,
            "align_self": null,
            "border": null,
            "bottom": null,
            "display": null,
            "flex": null,
            "flex_flow": null,
            "grid_area": null,
            "grid_auto_columns": null,
            "grid_auto_flow": null,
            "grid_auto_rows": null,
            "grid_column": null,
            "grid_gap": null,
            "grid_row": null,
            "grid_template_areas": null,
            "grid_template_columns": null,
            "grid_template_rows": null,
            "height": null,
            "justify_content": null,
            "justify_items": null,
            "left": null,
            "margin": null,
            "max_height": null,
            "max_width": null,
            "min_height": null,
            "min_width": null,
            "object_fit": null,
            "object_position": null,
            "order": null,
            "overflow": null,
            "overflow_x": null,
            "overflow_y": null,
            "padding": null,
            "right": null,
            "top": null,
            "visibility": null,
            "width": null
          }
        },
        "e46eb8bd3e544a409bc8cd2abc8b5153": {
          "model_module": "@jupyter-widgets/controls",
          "model_name": "DescriptionStyleModel",
          "model_module_version": "1.5.0",
          "state": {
            "_model_module": "@jupyter-widgets/controls",
            "_model_module_version": "1.5.0",
            "_model_name": "DescriptionStyleModel",
            "_view_count": null,
            "_view_module": "@jupyter-widgets/base",
            "_view_module_version": "1.2.0",
            "_view_name": "StyleView",
            "description_width": ""
          }
        },
        "2832260ee64c4bcdb87f76c2dfdfa230": {
          "model_module": "@jupyter-widgets/base",
          "model_name": "LayoutModel",
          "model_module_version": "1.2.0",
          "state": {
            "_model_module": "@jupyter-widgets/base",
            "_model_module_version": "1.2.0",
            "_model_name": "LayoutModel",
            "_view_count": null,
            "_view_module": "@jupyter-widgets/base",
            "_view_module_version": "1.2.0",
            "_view_name": "LayoutView",
            "align_content": null,
            "align_items": null,
            "align_self": null,
            "border": null,
            "bottom": null,
            "display": null,
            "flex": null,
            "flex_flow": null,
            "grid_area": null,
            "grid_auto_columns": null,
            "grid_auto_flow": null,
            "grid_auto_rows": null,
            "grid_column": null,
            "grid_gap": null,
            "grid_row": null,
            "grid_template_areas": null,
            "grid_template_columns": null,
            "grid_template_rows": null,
            "height": null,
            "justify_content": null,
            "justify_items": null,
            "left": null,
            "margin": null,
            "max_height": null,
            "max_width": null,
            "min_height": null,
            "min_width": null,
            "object_fit": null,
            "object_position": null,
            "order": null,
            "overflow": null,
            "overflow_x": null,
            "overflow_y": null,
            "padding": null,
            "right": null,
            "top": null,
            "visibility": null,
            "width": null
          }
        },
        "ab73917230c642d6973a5c16aa321fb2": {
          "model_module": "@jupyter-widgets/controls",
          "model_name": "ProgressStyleModel",
          "model_module_version": "1.5.0",
          "state": {
            "_model_module": "@jupyter-widgets/controls",
            "_model_module_version": "1.5.0",
            "_model_name": "ProgressStyleModel",
            "_view_count": null,
            "_view_module": "@jupyter-widgets/base",
            "_view_module_version": "1.2.0",
            "_view_name": "StyleView",
            "bar_color": null,
            "description_width": ""
          }
        },
        "df9d4523829b495dbe46f0645f98b01b": {
          "model_module": "@jupyter-widgets/base",
          "model_name": "LayoutModel",
          "model_module_version": "1.2.0",
          "state": {
            "_model_module": "@jupyter-widgets/base",
            "_model_module_version": "1.2.0",
            "_model_name": "LayoutModel",
            "_view_count": null,
            "_view_module": "@jupyter-widgets/base",
            "_view_module_version": "1.2.0",
            "_view_name": "LayoutView",
            "align_content": null,
            "align_items": null,
            "align_self": null,
            "border": null,
            "bottom": null,
            "display": null,
            "flex": null,
            "flex_flow": null,
            "grid_area": null,
            "grid_auto_columns": null,
            "grid_auto_flow": null,
            "grid_auto_rows": null,
            "grid_column": null,
            "grid_gap": null,
            "grid_row": null,
            "grid_template_areas": null,
            "grid_template_columns": null,
            "grid_template_rows": null,
            "height": null,
            "justify_content": null,
            "justify_items": null,
            "left": null,
            "margin": null,
            "max_height": null,
            "max_width": null,
            "min_height": null,
            "min_width": null,
            "object_fit": null,
            "object_position": null,
            "order": null,
            "overflow": null,
            "overflow_x": null,
            "overflow_y": null,
            "padding": null,
            "right": null,
            "top": null,
            "visibility": null,
            "width": null
          }
        },
        "ccb864f222cd4db5b3fe4a0dd2c0504f": {
          "model_module": "@jupyter-widgets/controls",
          "model_name": "DescriptionStyleModel",
          "model_module_version": "1.5.0",
          "state": {
            "_model_module": "@jupyter-widgets/controls",
            "_model_module_version": "1.5.0",
            "_model_name": "DescriptionStyleModel",
            "_view_count": null,
            "_view_module": "@jupyter-widgets/base",
            "_view_module_version": "1.2.0",
            "_view_name": "StyleView",
            "description_width": ""
          }
        }
      }
    }
  },
  "cells": [
    {
      "cell_type": "markdown",
      "metadata": {
        "id": "view-in-github",
        "colab_type": "text"
      },
      "source": [
        "<a href=\"https://colab.research.google.com/github/KidsareBornStars/Study/blob/main/Balls_Classification_Transfer_Learning.ipynb\" target=\"_parent\"><img src=\"https://colab.research.google.com/assets/colab-badge.svg\" alt=\"Open In Colab\"/></a>"
      ]
    },
    {
      "cell_type": "code",
      "execution_count": null,
      "metadata": {
        "colab": {
          "base_uri": "https://localhost:8080/"
        },
        "id": "Kx6AaRX77s2r",
        "outputId": "a5577c40-033d-4d6e-d351-9ac5bd42011e"
      },
      "outputs": [
        {
          "output_type": "stream",
          "name": "stdout",
          "text": [
            "/content/drive/MyDrive/balls\n"
          ]
        }
      ],
      "source": [
        "%cd /content/drive/MyDrive/balls"
      ]
    },
    {
      "cell_type": "code",
      "source": [
        "# Importing Libraries\n",
        "import os\n",
        "import pandas as pd\n",
        "import numpy as np\n",
        "import matplotlib.pyplot as plt\n",
        "import torch\n",
        "from torch import nn \n",
        "import torch.utils.data as data\n",
        "from torchvision import transforms, datasets, models\n",
        "import torch.optim as optim\n",
        "from torchsummary import summary"
      ],
      "metadata": {
        "id": "Nrex2pXN7x_7"
      },
      "execution_count": null,
      "outputs": []
    },
    {
      "cell_type": "code",
      "source": [
        "# CUDA error: device-side assert triggered CUDA kernel errors might be asynchronously reported at some other API call,so the stacktrace below might be incorrect. For debugging consider passing CUDA_LAUNCH_BLOCKING=1.\n",
        "# Debugging을 위한 Code\n",
        "os.environ['CUDA_LAUNCH_BLOCKING'] = \"1\"\n",
        "os.environ[\"CUDA_VISIBLE_DEVICES\"] = \"0\"\n",
        "# Transfer Learning시에 fully-connected layer의 dimension을 잘못 맞추어 일어난 오류."
      ],
      "metadata": {
        "id": "rv65zDhlFgI_"
      },
      "execution_count": null,
      "outputs": []
    },
    {
      "cell_type": "code",
      "source": [
        "base_dir = \"/content/drive/MyDrive/balls\"\n",
        "\n",
        "train_dir = os.path.join(base_dir,\"train\")\n",
        "test_dir = os.path.join(base_dir,\"test\")\n",
        "valid_dir = os.path.join(base_dir,\"valid\")"
      ],
      "metadata": {
        "id": "5XTCIgrS70S0"
      },
      "execution_count": null,
      "outputs": []
    },
    {
      "cell_type": "code",
      "source": [
        "transform = transforms.Compose([transforms.ToTensor(),transforms.Resize((128,128))]) # 1~255의 rgb를 0~1로 normalize + classes보면 있는 사이즈 그대로 맞추기"
      ],
      "metadata": {
        "id": "STgvoVp973sf"
      },
      "execution_count": null,
      "outputs": []
    },
    {
      "cell_type": "code",
      "source": [
        "train_data = datasets.ImageFolder(root=train_dir, transform = transform)\n",
        "test_data = datasets.ImageFolder(root=test_dir, transform = transform)\n",
        "valid_data = datasets.ImageFolder(root=valid_dir, transform = transform)"
      ],
      "metadata": {
        "id": "IhNlJ_ds77u6"
      },
      "execution_count": null,
      "outputs": []
    },
    {
      "cell_type": "code",
      "source": [
        "device = torch.device(\"cuda:0\" if torch.cuda.is_available() else \"cpu\") # cpu환경에서의 학습이 느려서 gpu환경에서 학습"
      ],
      "metadata": {
        "id": "RrdeDv4579aF"
      },
      "execution_count": null,
      "outputs": []
    },
    {
      "cell_type": "code",
      "source": [
        "device"
      ],
      "metadata": {
        "colab": {
          "base_uri": "https://localhost:8080/"
        },
        "id": "dGkaHYaB_9Vr",
        "outputId": "f450bb02-aaa7-4c3e-e0a4-83bb1c6dec02"
      },
      "execution_count": null,
      "outputs": [
        {
          "output_type": "execute_result",
          "data": {
            "text/plain": [
              "device(type='cuda', index=0)"
            ]
          },
          "metadata": {},
          "execution_count": 12
        }
      ]
    },
    {
      "cell_type": "code",
      "source": [
        "train_loader = data.DataLoader(train_data,64,True)\n",
        "test_loader = data.DataLoader(test_data,64,False)\n",
        "valid_loader = data.DataLoader(valid_data,64,False)"
      ],
      "metadata": {
        "id": "X2rpulbg8DbB"
      },
      "execution_count": null,
      "outputs": []
    },
    {
      "cell_type": "code",
      "source": [
        "def train(epoch):\n",
        "    model.train()\n",
        "\n",
        "    train_loss = 0\n",
        "    correct = 0\n",
        "    for i, (input,label) in enumerate(train_loader):\n",
        "        input=input.to(device)\n",
        "        label=label.to(device)\n",
        "        output = model(input)\n",
        "        loss = criterion(output,label)\n",
        "        optimizer.zero_grad()\n",
        "        loss.backward()\n",
        "        optimizer.step()\n",
        "\n",
        "        train_loss += loss.item()\n",
        "        correct += (output.argmax(dim=1) == label).type(torch.float).sum().item()\n",
        "\n",
        "        if (i+1)%10 == 0:\n",
        "            print('Train Epoch: {} [{}/{} ({:.0f}%)] \\tLoss: {:.3f} \\tAccuracy: {:.2f}%'.format(\n",
        "            epoch+1,\n",
        "            (i+1) * len(input),\n",
        "            len(train_loader.dataset),\n",
        "            100. * (i+1) / len(train_loader),\n",
        "            loss.item(),\n",
        "            100. * correct / ((i+1) * len(input))))"
      ],
      "metadata": {
        "id": "3HtNaS-v8Ryg"
      },
      "execution_count": null,
      "outputs": []
    },
    {
      "cell_type": "code",
      "source": [
        "def test(data_loader):\n",
        "    model.eval()\n",
        "\n",
        "    test_loss =0\n",
        "    correct = 0\n",
        "    for input,label in data_loader:\n",
        "        input,label = input.to(device),label.to(device)\n",
        "        output = model(input)\n",
        "\n",
        "        test_loss += criterion(output,label).item()\n",
        "        correct += (output.argmax(dim=1)==label).type(torch.float).sum().item()\n",
        "\n",
        "    test_loss /= len(test_loader)\n",
        "    accuracy  = 100. * correct / len(valid_loader.dataset)\n",
        "\n",
        "    print(f\"\\nTest set: Average loss: {test_loss:.2f}, Accuracy: {accuracy:.0f}%\\n\") "
      ],
      "metadata": {
        "id": "sZjMiu2F8TLl"
      },
      "execution_count": null,
      "outputs": []
    },
    {
      "cell_type": "code",
      "source": [
        "criterion=nn.CrossEntropyLoss()"
      ],
      "metadata": {
        "id": "KCJxf5Hg8neJ"
      },
      "execution_count": null,
      "outputs": []
    },
    {
      "cell_type": "code",
      "source": [
        "# torchvision.models의 resnet18을 사용해 보았다. \n",
        "# Label이 26개로 많기 때문에 feature extractor에 backpropagation\n",
        "# Accuracy가 90%이상으로 매우 높지만, Overfitting이 된 것으로 보이는 epoch이 여럿 존재한다\n",
        "model = models.resnet18(pretrained=True)\n",
        "num_features = model.fc.in_features\n",
        "model.fc = nn.Linear(num_features, 26) # 26개의 feature로 반환시킨다\n",
        "optimizer = optim.Adam(model.parameters(),lr=1e-3)\n",
        "model.to(device)\n",
        "for epoch in range(15):\n",
        "    train(epoch)\n",
        "    test(valid_loader)"
      ],
      "metadata": {
        "colab": {
          "base_uri": "https://localhost:8080/",
          "height": 1000,
          "referenced_widgets": [
            "352547091ec04604a96de819c74beb62",
            "c4597c7b190f46acb6c7c20b569a1dc0",
            "47ac0e7dcd56426aad8d6653d7d76b2b",
            "4551baca8d18428e80232ee354c3ca8e",
            "d035beca88c04852b42acf2fe5a42be9",
            "329016f77aab4f9d90241b255ba54d54",
            "e46eb8bd3e544a409bc8cd2abc8b5153",
            "2832260ee64c4bcdb87f76c2dfdfa230",
            "ab73917230c642d6973a5c16aa321fb2",
            "df9d4523829b495dbe46f0645f98b01b",
            "ccb864f222cd4db5b3fe4a0dd2c0504f"
          ]
        },
        "id": "W5fWXKj_8FRd",
        "outputId": "455b02f0-5aeb-41da-a371-964fbe844098"
      },
      "execution_count": null,
      "outputs": [
        {
          "output_type": "stream",
          "name": "stderr",
          "text": [
            "/usr/local/lib/python3.7/dist-packages/torchvision/models/_utils.py:209: UserWarning: The parameter 'pretrained' is deprecated since 0.13 and will be removed in 0.15, please use 'weights' instead.\n",
            "  f\"The parameter '{pretrained_param}' is deprecated since 0.13 and will be removed in 0.15, \"\n",
            "/usr/local/lib/python3.7/dist-packages/torchvision/models/_utils.py:223: UserWarning: Arguments other than a weight enum or `None` for 'weights' are deprecated since 0.13 and will be removed in 0.15. The current behavior is equivalent to passing `weights=ResNet18_Weights.IMAGENET1K_V1`. You can also use `weights=ResNet18_Weights.DEFAULT` to get the most up-to-date weights.\n",
            "  warnings.warn(msg)\n",
            "Downloading: \"https://download.pytorch.org/models/resnet18-f37072fd.pth\" to /root/.cache/torch/hub/checkpoints/resnet18-f37072fd.pth\n"
          ]
        },
        {
          "output_type": "display_data",
          "data": {
            "text/plain": [
              "  0%|          | 0.00/44.7M [00:00<?, ?B/s]"
            ],
            "application/vnd.jupyter.widget-view+json": {
              "version_major": 2,
              "version_minor": 0,
              "model_id": "352547091ec04604a96de819c74beb62"
            }
          },
          "metadata": {}
        },
        {
          "output_type": "stream",
          "name": "stdout",
          "text": [
            "Train Epoch: 1 [640/3051 (21%)] \tLoss: 1.053 \tAccuracy: 62.97%\n",
            "Train Epoch: 1 [1280/3051 (42%)] \tLoss: 0.805 \tAccuracy: 71.25%\n",
            "Train Epoch: 1 [1920/3051 (62%)] \tLoss: 0.626 \tAccuracy: 75.05%\n",
            "Train Epoch: 1 [2560/3051 (83%)] \tLoss: 1.183 \tAccuracy: 75.82%\n",
            "\n",
            "Test set: Average loss: 0.71, Accuracy: 80%\n",
            "\n",
            "Train Epoch: 2 [640/3051 (21%)] \tLoss: 0.409 \tAccuracy: 89.38%\n",
            "Train Epoch: 2 [1280/3051 (42%)] \tLoss: 0.308 \tAccuracy: 90.23%\n",
            "Train Epoch: 2 [1920/3051 (62%)] \tLoss: 0.230 \tAccuracy: 90.05%\n",
            "Train Epoch: 2 [2560/3051 (83%)] \tLoss: 0.478 \tAccuracy: 90.35%\n",
            "\n",
            "Test set: Average loss: 0.28, Accuracy: 91%\n",
            "\n",
            "Train Epoch: 3 [640/3051 (21%)] \tLoss: 0.205 \tAccuracy: 92.03%\n",
            "Train Epoch: 3 [1280/3051 (42%)] \tLoss: 0.195 \tAccuracy: 92.03%\n",
            "Train Epoch: 3 [1920/3051 (62%)] \tLoss: 0.107 \tAccuracy: 92.08%\n",
            "Train Epoch: 3 [2560/3051 (83%)] \tLoss: 0.196 \tAccuracy: 92.11%\n",
            "\n",
            "Test set: Average loss: 0.24, Accuracy: 89%\n",
            "\n",
            "Train Epoch: 4 [640/3051 (21%)] \tLoss: 0.161 \tAccuracy: 94.69%\n",
            "Train Epoch: 4 [1280/3051 (42%)] \tLoss: 0.079 \tAccuracy: 94.69%\n",
            "Train Epoch: 4 [1920/3051 (62%)] \tLoss: 0.097 \tAccuracy: 95.26%\n",
            "Train Epoch: 4 [2560/3051 (83%)] \tLoss: 0.099 \tAccuracy: 95.78%\n",
            "\n",
            "Test set: Average loss: 0.15, Accuracy: 95%\n",
            "\n",
            "Train Epoch: 5 [640/3051 (21%)] \tLoss: 0.026 \tAccuracy: 97.50%\n",
            "Train Epoch: 5 [1280/3051 (42%)] \tLoss: 0.140 \tAccuracy: 95.94%\n",
            "Train Epoch: 5 [1920/3051 (62%)] \tLoss: 0.129 \tAccuracy: 95.99%\n",
            "Train Epoch: 5 [2560/3051 (83%)] \tLoss: 0.182 \tAccuracy: 95.98%\n",
            "\n",
            "Test set: Average loss: 0.48, Accuracy: 80%\n",
            "\n",
            "Train Epoch: 6 [640/3051 (21%)] \tLoss: 0.208 \tAccuracy: 93.75%\n",
            "Train Epoch: 6 [1280/3051 (42%)] \tLoss: 0.106 \tAccuracy: 93.67%\n",
            "Train Epoch: 6 [1920/3051 (62%)] \tLoss: 0.102 \tAccuracy: 94.38%\n",
            "Train Epoch: 6 [2560/3051 (83%)] \tLoss: 0.063 \tAccuracy: 94.57%\n",
            "\n",
            "Test set: Average loss: 0.15, Accuracy: 93%\n",
            "\n",
            "Train Epoch: 7 [640/3051 (21%)] \tLoss: 0.078 \tAccuracy: 95.16%\n",
            "Train Epoch: 7 [1280/3051 (42%)] \tLoss: 0.216 \tAccuracy: 95.78%\n",
            "Train Epoch: 7 [1920/3051 (62%)] \tLoss: 0.132 \tAccuracy: 95.83%\n",
            "Train Epoch: 7 [2560/3051 (83%)] \tLoss: 0.205 \tAccuracy: 95.70%\n",
            "\n",
            "Test set: Average loss: 0.34, Accuracy: 89%\n",
            "\n",
            "Train Epoch: 8 [640/3051 (21%)] \tLoss: 0.077 \tAccuracy: 94.38%\n",
            "Train Epoch: 8 [1280/3051 (42%)] \tLoss: 0.176 \tAccuracy: 95.00%\n",
            "Train Epoch: 8 [1920/3051 (62%)] \tLoss: 0.059 \tAccuracy: 94.69%\n",
            "Train Epoch: 8 [2560/3051 (83%)] \tLoss: 0.114 \tAccuracy: 95.08%\n",
            "\n",
            "Test set: Average loss: 0.16, Accuracy: 95%\n",
            "\n",
            "Train Epoch: 9 [640/3051 (21%)] \tLoss: 0.081 \tAccuracy: 98.28%\n",
            "Train Epoch: 9 [1280/3051 (42%)] \tLoss: 0.015 \tAccuracy: 98.52%\n",
            "Train Epoch: 9 [1920/3051 (62%)] \tLoss: 0.035 \tAccuracy: 98.70%\n",
            "Train Epoch: 9 [2560/3051 (83%)] \tLoss: 0.004 \tAccuracy: 98.75%\n",
            "\n",
            "Test set: Average loss: 0.14, Accuracy: 93%\n",
            "\n",
            "Train Epoch: 10 [640/3051 (21%)] \tLoss: 0.104 \tAccuracy: 98.44%\n",
            "Train Epoch: 10 [1280/3051 (42%)] \tLoss: 0.228 \tAccuracy: 98.28%\n",
            "Train Epoch: 10 [1920/3051 (62%)] \tLoss: 0.011 \tAccuracy: 98.44%\n",
            "Train Epoch: 10 [2560/3051 (83%)] \tLoss: 0.087 \tAccuracy: 98.48%\n",
            "\n",
            "Test set: Average loss: 0.07, Accuracy: 97%\n",
            "\n",
            "Train Epoch: 11 [640/3051 (21%)] \tLoss: 0.005 \tAccuracy: 99.53%\n",
            "Train Epoch: 11 [1280/3051 (42%)] \tLoss: 0.006 \tAccuracy: 99.69%\n",
            "Train Epoch: 11 [1920/3051 (62%)] \tLoss: 0.004 \tAccuracy: 99.58%\n",
            "Train Epoch: 11 [2560/3051 (83%)] \tLoss: 0.009 \tAccuracy: 99.69%\n",
            "\n",
            "Test set: Average loss: 0.06, Accuracy: 96%\n",
            "\n",
            "Train Epoch: 12 [640/3051 (21%)] \tLoss: 0.005 \tAccuracy: 99.84%\n",
            "Train Epoch: 12 [1280/3051 (42%)] \tLoss: 0.003 \tAccuracy: 99.77%\n",
            "Train Epoch: 12 [1920/3051 (62%)] \tLoss: 0.004 \tAccuracy: 99.84%\n",
            "Train Epoch: 12 [2560/3051 (83%)] \tLoss: 0.007 \tAccuracy: 99.77%\n",
            "\n",
            "Test set: Average loss: 0.12, Accuracy: 95%\n",
            "\n",
            "Train Epoch: 13 [640/3051 (21%)] \tLoss: 0.001 \tAccuracy: 100.00%\n",
            "Train Epoch: 13 [1280/3051 (42%)] \tLoss: 0.005 \tAccuracy: 99.77%\n",
            "Train Epoch: 13 [1920/3051 (62%)] \tLoss: 0.077 \tAccuracy: 99.58%\n",
            "Train Epoch: 13 [2560/3051 (83%)] \tLoss: 0.009 \tAccuracy: 99.65%\n",
            "\n",
            "Test set: Average loss: 0.05, Accuracy: 98%\n",
            "\n",
            "Train Epoch: 14 [640/3051 (21%)] \tLoss: 0.001 \tAccuracy: 100.00%\n",
            "Train Epoch: 14 [1280/3051 (42%)] \tLoss: 0.002 \tAccuracy: 100.00%\n",
            "Train Epoch: 14 [1920/3051 (62%)] \tLoss: 0.002 \tAccuracy: 99.95%\n",
            "Train Epoch: 14 [2560/3051 (83%)] \tLoss: 0.001 \tAccuracy: 99.92%\n",
            "\n",
            "Test set: Average loss: 0.03, Accuracy: 98%\n",
            "\n",
            "Train Epoch: 15 [640/3051 (21%)] \tLoss: 0.001 \tAccuracy: 99.84%\n",
            "Train Epoch: 15 [1280/3051 (42%)] \tLoss: 0.001 \tAccuracy: 99.84%\n",
            "Train Epoch: 15 [1920/3051 (62%)] \tLoss: 0.001 \tAccuracy: 99.90%\n",
            "Train Epoch: 15 [2560/3051 (83%)] \tLoss: 0.006 \tAccuracy: 99.92%\n",
            "\n",
            "Test set: Average loss: 0.04, Accuracy: 98%\n",
            "\n"
          ]
        }
      ]
    },
    {
      "cell_type": "code",
      "source": [
        "# Feature extractor에 대해 backpropagation을 하지않는 Frozen기법 사용\n",
        "# Overfitting이 방지되었고, 정확도도 매우 높다\n",
        "model = models.resnet18(pretrained=True)\n",
        "for param in model.parameters():\n",
        "    param.requires_grad = False\n",
        "\n",
        "num_features = model.fc.in_features\n",
        "model.fc = nn.Linear(num_features, 26)\n",
        "model = model.to(device)\n",
        "optimizer = optim.Adam(model.parameters(),lr=1e-3)\n",
        "for epoch in range(15):\n",
        "    train(epoch)\n",
        "    test(valid_loader)"
      ],
      "metadata": {
        "id": "mx9txKF08SgB",
        "colab": {
          "base_uri": "https://localhost:8080/"
        },
        "outputId": "0462f1d8-9207-453f-b421-f08a310c1848"
      },
      "execution_count": 13,
      "outputs": [
        {
          "output_type": "stream",
          "name": "stderr",
          "text": [
            "/usr/local/lib/python3.7/dist-packages/torchvision/models/_utils.py:209: UserWarning: The parameter 'pretrained' is deprecated since 0.13 and will be removed in 0.15, please use 'weights' instead.\n",
            "  f\"The parameter '{pretrained_param}' is deprecated since 0.13 and will be removed in 0.15, \"\n",
            "/usr/local/lib/python3.7/dist-packages/torchvision/models/_utils.py:223: UserWarning: Arguments other than a weight enum or `None` for 'weights' are deprecated since 0.13 and will be removed in 0.15. The current behavior is equivalent to passing `weights=ResNet18_Weights.IMAGENET1K_V1`. You can also use `weights=ResNet18_Weights.DEFAULT` to get the most up-to-date weights.\n",
            "  warnings.warn(msg)\n"
          ]
        },
        {
          "output_type": "stream",
          "name": "stdout",
          "text": [
            "Train Epoch: 1 [640/3051 (21%)] \tLoss: 2.658 \tAccuracy: 15.94%\n",
            "Train Epoch: 1 [1280/3051 (42%)] \tLoss: 1.870 \tAccuracy: 30.94%\n",
            "Train Epoch: 1 [1920/3051 (62%)] \tLoss: 1.428 \tAccuracy: 43.91%\n",
            "Train Epoch: 1 [2560/3051 (83%)] \tLoss: 1.130 \tAccuracy: 51.60%\n",
            "\n",
            "Test set: Average loss: 0.97, Accuracy: 80%\n",
            "\n",
            "Train Epoch: 2 [640/3051 (21%)] \tLoss: 0.928 \tAccuracy: 82.81%\n",
            "Train Epoch: 2 [1280/3051 (42%)] \tLoss: 0.664 \tAccuracy: 85.55%\n",
            "Train Epoch: 2 [1920/3051 (62%)] \tLoss: 0.621 \tAccuracy: 85.36%\n",
            "Train Epoch: 2 [2560/3051 (83%)] \tLoss: 0.737 \tAccuracy: 85.66%\n",
            "\n",
            "Test set: Average loss: 0.60, Accuracy: 86%\n",
            "\n",
            "Train Epoch: 3 [640/3051 (21%)] \tLoss: 0.366 \tAccuracy: 90.78%\n",
            "Train Epoch: 3 [1280/3051 (42%)] \tLoss: 0.458 \tAccuracy: 90.55%\n",
            "Train Epoch: 3 [1920/3051 (62%)] \tLoss: 0.541 \tAccuracy: 90.57%\n",
            "Train Epoch: 3 [2560/3051 (83%)] \tLoss: 0.460 \tAccuracy: 90.43%\n",
            "\n",
            "Test set: Average loss: 0.48, Accuracy: 88%\n",
            "\n",
            "Train Epoch: 4 [640/3051 (21%)] \tLoss: 0.356 \tAccuracy: 94.06%\n",
            "Train Epoch: 4 [1280/3051 (42%)] \tLoss: 0.396 \tAccuracy: 92.81%\n",
            "Train Epoch: 4 [1920/3051 (62%)] \tLoss: 0.443 \tAccuracy: 92.76%\n",
            "Train Epoch: 4 [2560/3051 (83%)] \tLoss: 0.345 \tAccuracy: 92.30%\n",
            "\n",
            "Test set: Average loss: 0.26, Accuracy: 90%\n",
            "\n",
            "Train Epoch: 5 [640/3051 (21%)] \tLoss: 0.488 \tAccuracy: 92.34%\n",
            "Train Epoch: 5 [1280/3051 (42%)] \tLoss: 0.358 \tAccuracy: 93.36%\n",
            "Train Epoch: 5 [1920/3051 (62%)] \tLoss: 0.330 \tAccuracy: 93.70%\n",
            "Train Epoch: 5 [2560/3051 (83%)] \tLoss: 0.291 \tAccuracy: 93.36%\n",
            "\n",
            "Test set: Average loss: 0.25, Accuracy: 93%\n",
            "\n",
            "Train Epoch: 6 [640/3051 (21%)] \tLoss: 0.390 \tAccuracy: 92.97%\n",
            "Train Epoch: 6 [1280/3051 (42%)] \tLoss: 0.238 \tAccuracy: 93.83%\n",
            "Train Epoch: 6 [1920/3051 (62%)] \tLoss: 0.266 \tAccuracy: 94.11%\n",
            "Train Epoch: 6 [2560/3051 (83%)] \tLoss: 0.193 \tAccuracy: 94.22%\n",
            "\n",
            "Test set: Average loss: 0.21, Accuracy: 94%\n",
            "\n",
            "Train Epoch: 7 [640/3051 (21%)] \tLoss: 0.310 \tAccuracy: 95.16%\n",
            "Train Epoch: 7 [1280/3051 (42%)] \tLoss: 0.222 \tAccuracy: 95.47%\n",
            "Train Epoch: 7 [1920/3051 (62%)] \tLoss: 0.320 \tAccuracy: 95.36%\n",
            "Train Epoch: 7 [2560/3051 (83%)] \tLoss: 0.184 \tAccuracy: 95.16%\n",
            "\n",
            "Test set: Average loss: 0.19, Accuracy: 93%\n",
            "\n",
            "Train Epoch: 8 [640/3051 (21%)] \tLoss: 0.225 \tAccuracy: 94.53%\n",
            "Train Epoch: 8 [1280/3051 (42%)] \tLoss: 0.232 \tAccuracy: 95.62%\n",
            "Train Epoch: 8 [1920/3051 (62%)] \tLoss: 0.160 \tAccuracy: 95.94%\n",
            "Train Epoch: 8 [2560/3051 (83%)] \tLoss: 0.191 \tAccuracy: 95.90%\n",
            "\n",
            "Test set: Average loss: 0.17, Accuracy: 95%\n",
            "\n",
            "Train Epoch: 9 [640/3051 (21%)] \tLoss: 0.167 \tAccuracy: 97.19%\n",
            "Train Epoch: 9 [1280/3051 (42%)] \tLoss: 0.218 \tAccuracy: 96.80%\n",
            "Train Epoch: 9 [1920/3051 (62%)] \tLoss: 0.208 \tAccuracy: 96.46%\n",
            "Train Epoch: 9 [2560/3051 (83%)] \tLoss: 0.161 \tAccuracy: 96.56%\n",
            "\n",
            "Test set: Average loss: 0.17, Accuracy: 96%\n",
            "\n",
            "Train Epoch: 10 [640/3051 (21%)] \tLoss: 0.199 \tAccuracy: 97.81%\n",
            "Train Epoch: 10 [1280/3051 (42%)] \tLoss: 0.236 \tAccuracy: 97.73%\n",
            "Train Epoch: 10 [1920/3051 (62%)] \tLoss: 0.244 \tAccuracy: 98.02%\n",
            "Train Epoch: 10 [2560/3051 (83%)] \tLoss: 0.275 \tAccuracy: 97.77%\n",
            "\n",
            "Test set: Average loss: 0.14, Accuracy: 96%\n",
            "\n",
            "Train Epoch: 11 [640/3051 (21%)] \tLoss: 0.109 \tAccuracy: 96.88%\n",
            "Train Epoch: 11 [1280/3051 (42%)] \tLoss: 0.174 \tAccuracy: 97.34%\n",
            "Train Epoch: 11 [1920/3051 (62%)] \tLoss: 0.094 \tAccuracy: 97.45%\n",
            "Train Epoch: 11 [2560/3051 (83%)] \tLoss: 0.171 \tAccuracy: 97.42%\n",
            "\n",
            "Test set: Average loss: 0.14, Accuracy: 96%\n",
            "\n",
            "Train Epoch: 12 [640/3051 (21%)] \tLoss: 0.104 \tAccuracy: 97.81%\n",
            "Train Epoch: 12 [1280/3051 (42%)] \tLoss: 0.091 \tAccuracy: 98.28%\n",
            "Train Epoch: 12 [1920/3051 (62%)] \tLoss: 0.160 \tAccuracy: 97.81%\n",
            "Train Epoch: 12 [2560/3051 (83%)] \tLoss: 0.090 \tAccuracy: 98.05%\n",
            "\n",
            "Test set: Average loss: 0.13, Accuracy: 96%\n",
            "\n",
            "Train Epoch: 13 [640/3051 (21%)] \tLoss: 0.164 \tAccuracy: 98.28%\n",
            "Train Epoch: 13 [1280/3051 (42%)] \tLoss: 0.122 \tAccuracy: 98.52%\n",
            "Train Epoch: 13 [1920/3051 (62%)] \tLoss: 0.057 \tAccuracy: 98.28%\n",
            "Train Epoch: 13 [2560/3051 (83%)] \tLoss: 0.081 \tAccuracy: 98.16%\n",
            "\n",
            "Test set: Average loss: 0.12, Accuracy: 97%\n",
            "\n",
            "Train Epoch: 14 [640/3051 (21%)] \tLoss: 0.195 \tAccuracy: 99.06%\n",
            "Train Epoch: 14 [1280/3051 (42%)] \tLoss: 0.101 \tAccuracy: 97.97%\n",
            "Train Epoch: 14 [1920/3051 (62%)] \tLoss: 0.085 \tAccuracy: 97.97%\n",
            "Train Epoch: 14 [2560/3051 (83%)] \tLoss: 0.072 \tAccuracy: 98.24%\n",
            "\n",
            "Test set: Average loss: 0.12, Accuracy: 98%\n",
            "\n",
            "Train Epoch: 15 [640/3051 (21%)] \tLoss: 0.071 \tAccuracy: 97.97%\n",
            "Train Epoch: 15 [1280/3051 (42%)] \tLoss: 0.110 \tAccuracy: 98.20%\n",
            "Train Epoch: 15 [1920/3051 (62%)] \tLoss: 0.103 \tAccuracy: 98.54%\n",
            "Train Epoch: 15 [2560/3051 (83%)] \tLoss: 0.083 \tAccuracy: 98.44%\n",
            "\n",
            "Test set: Average loss: 0.11, Accuracy: 97%\n",
            "\n"
          ]
        }
      ]
    },
    {
      "cell_type": "code",
      "source": [
        "# Pretrained된 Model로 Transfer Learning을 하는 것이 정확도가 매우 높다"
      ],
      "metadata": {
        "id": "5wKIS3jHCBaV"
      },
      "execution_count": null,
      "outputs": []
    }
  ]
}