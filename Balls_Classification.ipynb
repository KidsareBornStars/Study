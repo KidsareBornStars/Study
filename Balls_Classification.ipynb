{
  "nbformat": 4,
  "nbformat_minor": 0,
  "metadata": {
    "colab": {
      "name": "Balls Classification",
      "provenance": [],
      "collapsed_sections": [
        "TU-yOXlQcC8I"
      ],
      "mount_file_id": "1YhIoyfadqm1VPcJOFwaQ-0NOCr_mc4_j",
      "authorship_tag": "ABX9TyPPk9BoM8DXMfangfbWPQHU",
      "include_colab_link": true
    },
    "kernelspec": {
      "name": "python3",
      "display_name": "Python 3"
    },
    "language_info": {
      "name": "python"
    }
  },
  "cells": [
    {
      "cell_type": "markdown",
      "metadata": {
        "id": "view-in-github",
        "colab_type": "text"
      },
      "source": [
        "<a href=\"https://colab.research.google.com/github/KidsareBornStars/Study/blob/main/Balls_Classification.ipynb\" target=\"_parent\"><img src=\"https://colab.research.google.com/assets/colab-badge.svg\" alt=\"Open In Colab\"/></a>"
      ]
    },
    {
      "cell_type": "code",
      "source": [
        "url=\"https://www.kaggle.com/datasets/gpiosenka/balls-image-classification/download?datasetVersionNumber=3\""
      ],
      "metadata": {
        "id": "ASrlBpHdsvbz"
      },
      "execution_count": 1,
      "outputs": []
    },
    {
      "cell_type": "code",
      "execution_count": 2,
      "metadata": {
        "colab": {
          "base_uri": "https://localhost:8080/"
        },
        "id": "hEvg7rfhEs3C",
        "outputId": "8539bd8d-38be-4437-d192-eb902ec1b060"
      },
      "outputs": [
        {
          "output_type": "stream",
          "name": "stdout",
          "text": [
            "/root\n"
          ]
        }
      ],
      "source": [
        "cd"
      ]
    },
    {
      "cell_type": "code",
      "source": [
        "# target file들이 있는 directory로 이동\n",
        "%cd /content/drive/MyDrive/balls "
      ],
      "metadata": {
        "colab": {
          "base_uri": "https://localhost:8080/"
        },
        "id": "dq4oH0avE60n",
        "outputId": "01bbc351-e799-47bc-d694-b8b68a48cf64"
      },
      "execution_count": 5,
      "outputs": [
        {
          "output_type": "stream",
          "name": "stdout",
          "text": [
            "/content/drive/MyDrive/balls\n"
          ]
        }
      ]
    },
    {
      "cell_type": "code",
      "source": [
        "#import libraries\n",
        "import os\n",
        "import pandas as pd\n",
        "import numpy as np\n",
        "import matplotlib.pyplot as plt\n",
        "import torch\n",
        "from torch import nn \n",
        "import torch.utils.data as data\n",
        "from torchvision import transforms, datasets\n",
        "import torch.optim as optim\n",
        "from torchsummary import summary"
      ],
      "metadata": {
        "id": "lfwMjJmLE9OZ"
      },
      "execution_count": 6,
      "outputs": []
    },
    {
      "cell_type": "code",
      "source": [
        "base_dir = \"/content/drive/MyDrive/balls\""
      ],
      "metadata": {
        "id": "bBWYinvFKQSJ"
      },
      "execution_count": 7,
      "outputs": []
    },
    {
      "cell_type": "code",
      "source": [
        "train_dir = os.path.join(base_dir,\"train\")\n",
        "test_dir = os.path.join(base_dir,\"test\")\n",
        "valid_dir = os.path.join(base_dir,\"valid\")"
      ],
      "metadata": {
        "id": "KBkYxysqKlBu"
      },
      "execution_count": 8,
      "outputs": []
    },
    {
      "cell_type": "code",
      "source": [
        "balls = pd.read_csv(\"balls.csv\")\n",
        "classes = pd.read_csv(\"class_dict.csv\")"
      ],
      "metadata": {
        "id": "yiDQCrHBFcnh"
      },
      "execution_count": 9,
      "outputs": []
    },
    {
      "cell_type": "code",
      "source": [
        "balls"
      ],
      "metadata": {
        "colab": {
          "base_uri": "https://localhost:8080/",
          "height": 424
        },
        "id": "aV6_NK1sGCAx",
        "outputId": "333e086b-702c-4f88-90aa-dc7d5303540e"
      },
      "execution_count": 12,
      "outputs": [
        {
          "output_type": "execute_result",
          "data": {
            "text/plain": [
              "                      filepaths         labels data set\n",
              "0        train/baseball/001.jpg       baseball    train\n",
              "1        train/baseball/002.jpg       baseball    train\n",
              "2        train/baseball/003.jpg       baseball    train\n",
              "3        train/baseball/004.jpg       baseball    train\n",
              "4        train/baseball/005.jpg       baseball    train\n",
              "...                         ...            ...      ...\n",
              "3306  valid/wrecking ball/1.jpg  wrecking ball    valid\n",
              "3307  valid/wrecking ball/2.jpg  wrecking ball    valid\n",
              "3308  valid/wrecking ball/3.jpg  wrecking ball    valid\n",
              "3309  valid/wrecking ball/4.jpg  wrecking ball    valid\n",
              "3310  valid/wrecking ball/5.jpg  wrecking ball    valid\n",
              "\n",
              "[3311 rows x 3 columns]"
            ],
            "text/html": [
              "\n",
              "  <div id=\"df-ec3c862b-7993-459c-a6db-f50fe21432e6\">\n",
              "    <div class=\"colab-df-container\">\n",
              "      <div>\n",
              "<style scoped>\n",
              "    .dataframe tbody tr th:only-of-type {\n",
              "        vertical-align: middle;\n",
              "    }\n",
              "\n",
              "    .dataframe tbody tr th {\n",
              "        vertical-align: top;\n",
              "    }\n",
              "\n",
              "    .dataframe thead th {\n",
              "        text-align: right;\n",
              "    }\n",
              "</style>\n",
              "<table border=\"1\" class=\"dataframe\">\n",
              "  <thead>\n",
              "    <tr style=\"text-align: right;\">\n",
              "      <th></th>\n",
              "      <th>filepaths</th>\n",
              "      <th>labels</th>\n",
              "      <th>data set</th>\n",
              "    </tr>\n",
              "  </thead>\n",
              "  <tbody>\n",
              "    <tr>\n",
              "      <th>0</th>\n",
              "      <td>train/baseball/001.jpg</td>\n",
              "      <td>baseball</td>\n",
              "      <td>train</td>\n",
              "    </tr>\n",
              "    <tr>\n",
              "      <th>1</th>\n",
              "      <td>train/baseball/002.jpg</td>\n",
              "      <td>baseball</td>\n",
              "      <td>train</td>\n",
              "    </tr>\n",
              "    <tr>\n",
              "      <th>2</th>\n",
              "      <td>train/baseball/003.jpg</td>\n",
              "      <td>baseball</td>\n",
              "      <td>train</td>\n",
              "    </tr>\n",
              "    <tr>\n",
              "      <th>3</th>\n",
              "      <td>train/baseball/004.jpg</td>\n",
              "      <td>baseball</td>\n",
              "      <td>train</td>\n",
              "    </tr>\n",
              "    <tr>\n",
              "      <th>4</th>\n",
              "      <td>train/baseball/005.jpg</td>\n",
              "      <td>baseball</td>\n",
              "      <td>train</td>\n",
              "    </tr>\n",
              "    <tr>\n",
              "      <th>...</th>\n",
              "      <td>...</td>\n",
              "      <td>...</td>\n",
              "      <td>...</td>\n",
              "    </tr>\n",
              "    <tr>\n",
              "      <th>3306</th>\n",
              "      <td>valid/wrecking ball/1.jpg</td>\n",
              "      <td>wrecking ball</td>\n",
              "      <td>valid</td>\n",
              "    </tr>\n",
              "    <tr>\n",
              "      <th>3307</th>\n",
              "      <td>valid/wrecking ball/2.jpg</td>\n",
              "      <td>wrecking ball</td>\n",
              "      <td>valid</td>\n",
              "    </tr>\n",
              "    <tr>\n",
              "      <th>3308</th>\n",
              "      <td>valid/wrecking ball/3.jpg</td>\n",
              "      <td>wrecking ball</td>\n",
              "      <td>valid</td>\n",
              "    </tr>\n",
              "    <tr>\n",
              "      <th>3309</th>\n",
              "      <td>valid/wrecking ball/4.jpg</td>\n",
              "      <td>wrecking ball</td>\n",
              "      <td>valid</td>\n",
              "    </tr>\n",
              "    <tr>\n",
              "      <th>3310</th>\n",
              "      <td>valid/wrecking ball/5.jpg</td>\n",
              "      <td>wrecking ball</td>\n",
              "      <td>valid</td>\n",
              "    </tr>\n",
              "  </tbody>\n",
              "</table>\n",
              "<p>3311 rows × 3 columns</p>\n",
              "</div>\n",
              "      <button class=\"colab-df-convert\" onclick=\"convertToInteractive('df-ec3c862b-7993-459c-a6db-f50fe21432e6')\"\n",
              "              title=\"Convert this dataframe to an interactive table.\"\n",
              "              style=\"display:none;\">\n",
              "        \n",
              "  <svg xmlns=\"http://www.w3.org/2000/svg\" height=\"24px\"viewBox=\"0 0 24 24\"\n",
              "       width=\"24px\">\n",
              "    <path d=\"M0 0h24v24H0V0z\" fill=\"none\"/>\n",
              "    <path d=\"M18.56 5.44l.94 2.06.94-2.06 2.06-.94-2.06-.94-.94-2.06-.94 2.06-2.06.94zm-11 1L8.5 8.5l.94-2.06 2.06-.94-2.06-.94L8.5 2.5l-.94 2.06-2.06.94zm10 10l.94 2.06.94-2.06 2.06-.94-2.06-.94-.94-2.06-.94 2.06-2.06.94z\"/><path d=\"M17.41 7.96l-1.37-1.37c-.4-.4-.92-.59-1.43-.59-.52 0-1.04.2-1.43.59L10.3 9.45l-7.72 7.72c-.78.78-.78 2.05 0 2.83L4 21.41c.39.39.9.59 1.41.59.51 0 1.02-.2 1.41-.59l7.78-7.78 2.81-2.81c.8-.78.8-2.07 0-2.86zM5.41 20L4 18.59l7.72-7.72 1.47 1.35L5.41 20z\"/>\n",
              "  </svg>\n",
              "      </button>\n",
              "      \n",
              "  <style>\n",
              "    .colab-df-container {\n",
              "      display:flex;\n",
              "      flex-wrap:wrap;\n",
              "      gap: 12px;\n",
              "    }\n",
              "\n",
              "    .colab-df-convert {\n",
              "      background-color: #E8F0FE;\n",
              "      border: none;\n",
              "      border-radius: 50%;\n",
              "      cursor: pointer;\n",
              "      display: none;\n",
              "      fill: #1967D2;\n",
              "      height: 32px;\n",
              "      padding: 0 0 0 0;\n",
              "      width: 32px;\n",
              "    }\n",
              "\n",
              "    .colab-df-convert:hover {\n",
              "      background-color: #E2EBFA;\n",
              "      box-shadow: 0px 1px 2px rgba(60, 64, 67, 0.3), 0px 1px 3px 1px rgba(60, 64, 67, 0.15);\n",
              "      fill: #174EA6;\n",
              "    }\n",
              "\n",
              "    [theme=dark] .colab-df-convert {\n",
              "      background-color: #3B4455;\n",
              "      fill: #D2E3FC;\n",
              "    }\n",
              "\n",
              "    [theme=dark] .colab-df-convert:hover {\n",
              "      background-color: #434B5C;\n",
              "      box-shadow: 0px 1px 3px 1px rgba(0, 0, 0, 0.15);\n",
              "      filter: drop-shadow(0px 1px 2px rgba(0, 0, 0, 0.3));\n",
              "      fill: #FFFFFF;\n",
              "    }\n",
              "  </style>\n",
              "\n",
              "      <script>\n",
              "        const buttonEl =\n",
              "          document.querySelector('#df-ec3c862b-7993-459c-a6db-f50fe21432e6 button.colab-df-convert');\n",
              "        buttonEl.style.display =\n",
              "          google.colab.kernel.accessAllowed ? 'block' : 'none';\n",
              "\n",
              "        async function convertToInteractive(key) {\n",
              "          const element = document.querySelector('#df-ec3c862b-7993-459c-a6db-f50fe21432e6');\n",
              "          const dataTable =\n",
              "            await google.colab.kernel.invokeFunction('convertToInteractive',\n",
              "                                                     [key], {});\n",
              "          if (!dataTable) return;\n",
              "\n",
              "          const docLinkHtml = 'Like what you see? Visit the ' +\n",
              "            '<a target=\"_blank\" href=https://colab.research.google.com/notebooks/data_table.ipynb>data table notebook</a>'\n",
              "            + ' to learn more about interactive tables.';\n",
              "          element.innerHTML = '';\n",
              "          dataTable['output_type'] = 'display_data';\n",
              "          await google.colab.output.renderOutput(dataTable, element);\n",
              "          const docLink = document.createElement('div');\n",
              "          docLink.innerHTML = docLinkHtml;\n",
              "          element.appendChild(docLink);\n",
              "        }\n",
              "      </script>\n",
              "    </div>\n",
              "  </div>\n",
              "  "
            ]
          },
          "metadata": {},
          "execution_count": 12
        }
      ]
    },
    {
      "cell_type": "code",
      "source": [
        "classes # class들 보기"
      ],
      "metadata": {
        "colab": {
          "base_uri": "https://localhost:8080/",
          "height": 865
        },
        "id": "aO73WwEaGCgw",
        "outputId": "da17aef8-fe2f-48c6-ce5d-807354bba6ad"
      },
      "execution_count": 11,
      "outputs": [
        {
          "output_type": "execute_result",
          "data": {
            "text/plain": [
              "    class_index            class  height  width  scale by\n",
              "0             0         baseball     128    128         1\n",
              "1             1       basketball     128    128         1\n",
              "2             2       beachballs     128    128         1\n",
              "3             3    billiard ball     128    128         1\n",
              "4             4     bowling ball     128    128         1\n",
              "5             5            brass     128    128         1\n",
              "6             6      buckeyballs     128    128         1\n",
              "7             7      cannon ball     128    128         1\n",
              "8             8     cricket ball     128    128         1\n",
              "9             9         eyeballs     128    128         1\n",
              "10           10         football     128    128         1\n",
              "11           11        golf ball     128    128         1\n",
              "12           12           marble     128    128         1\n",
              "13           13        meat ball     128    128         1\n",
              "14           14    medicine ball     128    128         1\n",
              "15           15      paint balls     128    128         1\n",
              "16           16    pokeman balls     128    128         1\n",
              "17           17        puffballs     128    128         1\n",
              "18           18       screwballs     128    128         1\n",
              "19           19      soccer ball     128    128         1\n",
              "20           20      tennis ball     128    128         1\n",
              "21           21      tether ball     128    128         1\n",
              "22           22      volley ball     128    128         1\n",
              "23           23  water polo ball     128    128         1\n",
              "24           24      wiffle ball     128    128         1\n",
              "25           25    wrecking ball     128    128         1"
            ],
            "text/html": [
              "\n",
              "  <div id=\"df-5e9f9999-b6f7-4584-8921-3de7d080878f\">\n",
              "    <div class=\"colab-df-container\">\n",
              "      <div>\n",
              "<style scoped>\n",
              "    .dataframe tbody tr th:only-of-type {\n",
              "        vertical-align: middle;\n",
              "    }\n",
              "\n",
              "    .dataframe tbody tr th {\n",
              "        vertical-align: top;\n",
              "    }\n",
              "\n",
              "    .dataframe thead th {\n",
              "        text-align: right;\n",
              "    }\n",
              "</style>\n",
              "<table border=\"1\" class=\"dataframe\">\n",
              "  <thead>\n",
              "    <tr style=\"text-align: right;\">\n",
              "      <th></th>\n",
              "      <th>class_index</th>\n",
              "      <th>class</th>\n",
              "      <th>height</th>\n",
              "      <th>width</th>\n",
              "      <th>scale by</th>\n",
              "    </tr>\n",
              "  </thead>\n",
              "  <tbody>\n",
              "    <tr>\n",
              "      <th>0</th>\n",
              "      <td>0</td>\n",
              "      <td>baseball</td>\n",
              "      <td>128</td>\n",
              "      <td>128</td>\n",
              "      <td>1</td>\n",
              "    </tr>\n",
              "    <tr>\n",
              "      <th>1</th>\n",
              "      <td>1</td>\n",
              "      <td>basketball</td>\n",
              "      <td>128</td>\n",
              "      <td>128</td>\n",
              "      <td>1</td>\n",
              "    </tr>\n",
              "    <tr>\n",
              "      <th>2</th>\n",
              "      <td>2</td>\n",
              "      <td>beachballs</td>\n",
              "      <td>128</td>\n",
              "      <td>128</td>\n",
              "      <td>1</td>\n",
              "    </tr>\n",
              "    <tr>\n",
              "      <th>3</th>\n",
              "      <td>3</td>\n",
              "      <td>billiard ball</td>\n",
              "      <td>128</td>\n",
              "      <td>128</td>\n",
              "      <td>1</td>\n",
              "    </tr>\n",
              "    <tr>\n",
              "      <th>4</th>\n",
              "      <td>4</td>\n",
              "      <td>bowling ball</td>\n",
              "      <td>128</td>\n",
              "      <td>128</td>\n",
              "      <td>1</td>\n",
              "    </tr>\n",
              "    <tr>\n",
              "      <th>5</th>\n",
              "      <td>5</td>\n",
              "      <td>brass</td>\n",
              "      <td>128</td>\n",
              "      <td>128</td>\n",
              "      <td>1</td>\n",
              "    </tr>\n",
              "    <tr>\n",
              "      <th>6</th>\n",
              "      <td>6</td>\n",
              "      <td>buckeyballs</td>\n",
              "      <td>128</td>\n",
              "      <td>128</td>\n",
              "      <td>1</td>\n",
              "    </tr>\n",
              "    <tr>\n",
              "      <th>7</th>\n",
              "      <td>7</td>\n",
              "      <td>cannon ball</td>\n",
              "      <td>128</td>\n",
              "      <td>128</td>\n",
              "      <td>1</td>\n",
              "    </tr>\n",
              "    <tr>\n",
              "      <th>8</th>\n",
              "      <td>8</td>\n",
              "      <td>cricket ball</td>\n",
              "      <td>128</td>\n",
              "      <td>128</td>\n",
              "      <td>1</td>\n",
              "    </tr>\n",
              "    <tr>\n",
              "      <th>9</th>\n",
              "      <td>9</td>\n",
              "      <td>eyeballs</td>\n",
              "      <td>128</td>\n",
              "      <td>128</td>\n",
              "      <td>1</td>\n",
              "    </tr>\n",
              "    <tr>\n",
              "      <th>10</th>\n",
              "      <td>10</td>\n",
              "      <td>football</td>\n",
              "      <td>128</td>\n",
              "      <td>128</td>\n",
              "      <td>1</td>\n",
              "    </tr>\n",
              "    <tr>\n",
              "      <th>11</th>\n",
              "      <td>11</td>\n",
              "      <td>golf ball</td>\n",
              "      <td>128</td>\n",
              "      <td>128</td>\n",
              "      <td>1</td>\n",
              "    </tr>\n",
              "    <tr>\n",
              "      <th>12</th>\n",
              "      <td>12</td>\n",
              "      <td>marble</td>\n",
              "      <td>128</td>\n",
              "      <td>128</td>\n",
              "      <td>1</td>\n",
              "    </tr>\n",
              "    <tr>\n",
              "      <th>13</th>\n",
              "      <td>13</td>\n",
              "      <td>meat ball</td>\n",
              "      <td>128</td>\n",
              "      <td>128</td>\n",
              "      <td>1</td>\n",
              "    </tr>\n",
              "    <tr>\n",
              "      <th>14</th>\n",
              "      <td>14</td>\n",
              "      <td>medicine ball</td>\n",
              "      <td>128</td>\n",
              "      <td>128</td>\n",
              "      <td>1</td>\n",
              "    </tr>\n",
              "    <tr>\n",
              "      <th>15</th>\n",
              "      <td>15</td>\n",
              "      <td>paint balls</td>\n",
              "      <td>128</td>\n",
              "      <td>128</td>\n",
              "      <td>1</td>\n",
              "    </tr>\n",
              "    <tr>\n",
              "      <th>16</th>\n",
              "      <td>16</td>\n",
              "      <td>pokeman balls</td>\n",
              "      <td>128</td>\n",
              "      <td>128</td>\n",
              "      <td>1</td>\n",
              "    </tr>\n",
              "    <tr>\n",
              "      <th>17</th>\n",
              "      <td>17</td>\n",
              "      <td>puffballs</td>\n",
              "      <td>128</td>\n",
              "      <td>128</td>\n",
              "      <td>1</td>\n",
              "    </tr>\n",
              "    <tr>\n",
              "      <th>18</th>\n",
              "      <td>18</td>\n",
              "      <td>screwballs</td>\n",
              "      <td>128</td>\n",
              "      <td>128</td>\n",
              "      <td>1</td>\n",
              "    </tr>\n",
              "    <tr>\n",
              "      <th>19</th>\n",
              "      <td>19</td>\n",
              "      <td>soccer ball</td>\n",
              "      <td>128</td>\n",
              "      <td>128</td>\n",
              "      <td>1</td>\n",
              "    </tr>\n",
              "    <tr>\n",
              "      <th>20</th>\n",
              "      <td>20</td>\n",
              "      <td>tennis ball</td>\n",
              "      <td>128</td>\n",
              "      <td>128</td>\n",
              "      <td>1</td>\n",
              "    </tr>\n",
              "    <tr>\n",
              "      <th>21</th>\n",
              "      <td>21</td>\n",
              "      <td>tether ball</td>\n",
              "      <td>128</td>\n",
              "      <td>128</td>\n",
              "      <td>1</td>\n",
              "    </tr>\n",
              "    <tr>\n",
              "      <th>22</th>\n",
              "      <td>22</td>\n",
              "      <td>volley ball</td>\n",
              "      <td>128</td>\n",
              "      <td>128</td>\n",
              "      <td>1</td>\n",
              "    </tr>\n",
              "    <tr>\n",
              "      <th>23</th>\n",
              "      <td>23</td>\n",
              "      <td>water polo ball</td>\n",
              "      <td>128</td>\n",
              "      <td>128</td>\n",
              "      <td>1</td>\n",
              "    </tr>\n",
              "    <tr>\n",
              "      <th>24</th>\n",
              "      <td>24</td>\n",
              "      <td>wiffle ball</td>\n",
              "      <td>128</td>\n",
              "      <td>128</td>\n",
              "      <td>1</td>\n",
              "    </tr>\n",
              "    <tr>\n",
              "      <th>25</th>\n",
              "      <td>25</td>\n",
              "      <td>wrecking ball</td>\n",
              "      <td>128</td>\n",
              "      <td>128</td>\n",
              "      <td>1</td>\n",
              "    </tr>\n",
              "  </tbody>\n",
              "</table>\n",
              "</div>\n",
              "      <button class=\"colab-df-convert\" onclick=\"convertToInteractive('df-5e9f9999-b6f7-4584-8921-3de7d080878f')\"\n",
              "              title=\"Convert this dataframe to an interactive table.\"\n",
              "              style=\"display:none;\">\n",
              "        \n",
              "  <svg xmlns=\"http://www.w3.org/2000/svg\" height=\"24px\"viewBox=\"0 0 24 24\"\n",
              "       width=\"24px\">\n",
              "    <path d=\"M0 0h24v24H0V0z\" fill=\"none\"/>\n",
              "    <path d=\"M18.56 5.44l.94 2.06.94-2.06 2.06-.94-2.06-.94-.94-2.06-.94 2.06-2.06.94zm-11 1L8.5 8.5l.94-2.06 2.06-.94-2.06-.94L8.5 2.5l-.94 2.06-2.06.94zm10 10l.94 2.06.94-2.06 2.06-.94-2.06-.94-.94-2.06-.94 2.06-2.06.94z\"/><path d=\"M17.41 7.96l-1.37-1.37c-.4-.4-.92-.59-1.43-.59-.52 0-1.04.2-1.43.59L10.3 9.45l-7.72 7.72c-.78.78-.78 2.05 0 2.83L4 21.41c.39.39.9.59 1.41.59.51 0 1.02-.2 1.41-.59l7.78-7.78 2.81-2.81c.8-.78.8-2.07 0-2.86zM5.41 20L4 18.59l7.72-7.72 1.47 1.35L5.41 20z\"/>\n",
              "  </svg>\n",
              "      </button>\n",
              "      \n",
              "  <style>\n",
              "    .colab-df-container {\n",
              "      display:flex;\n",
              "      flex-wrap:wrap;\n",
              "      gap: 12px;\n",
              "    }\n",
              "\n",
              "    .colab-df-convert {\n",
              "      background-color: #E8F0FE;\n",
              "      border: none;\n",
              "      border-radius: 50%;\n",
              "      cursor: pointer;\n",
              "      display: none;\n",
              "      fill: #1967D2;\n",
              "      height: 32px;\n",
              "      padding: 0 0 0 0;\n",
              "      width: 32px;\n",
              "    }\n",
              "\n",
              "    .colab-df-convert:hover {\n",
              "      background-color: #E2EBFA;\n",
              "      box-shadow: 0px 1px 2px rgba(60, 64, 67, 0.3), 0px 1px 3px 1px rgba(60, 64, 67, 0.15);\n",
              "      fill: #174EA6;\n",
              "    }\n",
              "\n",
              "    [theme=dark] .colab-df-convert {\n",
              "      background-color: #3B4455;\n",
              "      fill: #D2E3FC;\n",
              "    }\n",
              "\n",
              "    [theme=dark] .colab-df-convert:hover {\n",
              "      background-color: #434B5C;\n",
              "      box-shadow: 0px 1px 3px 1px rgba(0, 0, 0, 0.15);\n",
              "      filter: drop-shadow(0px 1px 2px rgba(0, 0, 0, 0.3));\n",
              "      fill: #FFFFFF;\n",
              "    }\n",
              "  </style>\n",
              "\n",
              "      <script>\n",
              "        const buttonEl =\n",
              "          document.querySelector('#df-5e9f9999-b6f7-4584-8921-3de7d080878f button.colab-df-convert');\n",
              "        buttonEl.style.display =\n",
              "          google.colab.kernel.accessAllowed ? 'block' : 'none';\n",
              "\n",
              "        async function convertToInteractive(key) {\n",
              "          const element = document.querySelector('#df-5e9f9999-b6f7-4584-8921-3de7d080878f');\n",
              "          const dataTable =\n",
              "            await google.colab.kernel.invokeFunction('convertToInteractive',\n",
              "                                                     [key], {});\n",
              "          if (!dataTable) return;\n",
              "\n",
              "          const docLinkHtml = 'Like what you see? Visit the ' +\n",
              "            '<a target=\"_blank\" href=https://colab.research.google.com/notebooks/data_table.ipynb>data table notebook</a>'\n",
              "            + ' to learn more about interactive tables.';\n",
              "          element.innerHTML = '';\n",
              "          dataTable['output_type'] = 'display_data';\n",
              "          await google.colab.output.renderOutput(dataTable, element);\n",
              "          const docLink = document.createElement('div');\n",
              "          docLink.innerHTML = docLinkHtml;\n",
              "          element.appendChild(docLink);\n",
              "        }\n",
              "      </script>\n",
              "    </div>\n",
              "  </div>\n",
              "  "
            ]
          },
          "metadata": {},
          "execution_count": 11
        }
      ]
    },
    {
      "cell_type": "code",
      "source": [
        "transform = transforms.Compose([transforms.ToTensor(),transforms.Resize((128,128))]) # 1~255의 rgb를 0~1로 normalize + classes보면 있는 사이즈 그대로 맞추기"
      ],
      "metadata": {
        "id": "ZKwMUICTGOS6"
      },
      "execution_count": 13,
      "outputs": []
    },
    {
      "cell_type": "code",
      "source": [
        "# folder를 dataset으로 사용\n",
        "train_data = datasets.ImageFolder(root=train_dir, transform = transform) \n",
        "test_data = datasets.ImageFolder(root=test_dir, transform = transform)\n",
        "valid_data = datasets.ImageFolder(root=valid_dir, transform = transform)"
      ],
      "metadata": {
        "id": "pLEox-XPKCVr"
      },
      "execution_count": 14,
      "outputs": []
    },
    {
      "cell_type": "code",
      "source": [
        "train_data[0][0].shape # transform이 잘 되었는지 확인"
      ],
      "metadata": {
        "colab": {
          "base_uri": "https://localhost:8080/"
        },
        "id": "9YLPMEduV8dt",
        "outputId": "9275725d-eb0c-4b47-df45-9757ee726d59"
      },
      "execution_count": 15,
      "outputs": [
        {
          "output_type": "execute_result",
          "data": {
            "text/plain": [
              "torch.Size([3, 128, 128])"
            ]
          },
          "metadata": {},
          "execution_count": 15
        }
      ]
    },
    {
      "cell_type": "code",
      "source": [
        "len(train_data) # train_data의 갯수 확인"
      ],
      "metadata": {
        "colab": {
          "base_uri": "https://localhost:8080/"
        },
        "id": "g9oO9fVGXKo3",
        "outputId": "1632fcd3-ee01-4030-a881-dfb7fb626394"
      },
      "execution_count": 16,
      "outputs": [
        {
          "output_type": "execute_result",
          "data": {
            "text/plain": [
              "3051"
            ]
          },
          "metadata": {},
          "execution_count": 16
        }
      ]
    },
    {
      "cell_type": "code",
      "source": [
        "import random\n",
        "def show_image(x):\n",
        "    x=x.permute(1,2,0) # height,width,channel의 순서로 변경\n",
        "    plt.imshow(x)"
      ],
      "metadata": {
        "id": "bzZltVOgWGZ8"
      },
      "execution_count": 17,
      "outputs": []
    },
    {
      "cell_type": "code",
      "source": [
        "# random plotting\n",
        "a = random.choice(range(3051))\n",
        "show_image(train_data[a][0])\n",
        "print(train_data[a][1])"
      ],
      "metadata": {
        "colab": {
          "base_uri": "https://localhost:8080/",
          "height": 286
        },
        "id": "T8Q9hO75WcS4",
        "outputId": "05b36ecd-3653-4283-a68f-f9db335ee2bf"
      },
      "execution_count": 23,
      "outputs": [
        {
          "output_type": "stream",
          "name": "stdout",
          "text": [
            "0\n"
          ]
        },
        {
          "output_type": "display_data",
          "data": {
            "text/plain": [
              "<Figure size 432x288 with 1 Axes>"
            ],
            "image/png": "[encoded data removed]"
          },
          "metadata": {
            "needs_background": "light"
          }
        }
      ]
    },
    {
      "cell_type": "code",
      "source": [
        "# train_loader는 shuffle을 True, 나머지는 False\n",
        "train_loader = data.DataLoader(train_data,64,True) \n",
        "test_loader = data.DataLoader(test_data,64,False)\n",
        "valid_loader = data.DataLoader(valid_data,64,False)"
      ],
      "metadata": {
        "id": "qlzjrm0-MbvT"
      },
      "execution_count": 24,
      "outputs": []
    },
    {
      "cell_type": "code",
      "source": [
        "# loader가 잘 생성되었는지 확인\n",
        "x,y=next(iter(test_loader))\n",
        "x.shape,len(y)"
      ],
      "metadata": {
        "colab": {
          "base_uri": "https://localhost:8080/"
        },
        "id": "tCQth8gdMy6x",
        "outputId": "8b0fd1a8-aef2-4504-bc79-c5d438ce1f81"
      },
      "execution_count": 25,
      "outputs": [
        {
          "output_type": "execute_result",
          "data": {
            "text/plain": [
              "(torch.Size([64, 3, 128, 128]), 64)"
            ]
          },
          "metadata": {},
          "execution_count": 25
        }
      ]
    },
    {
      "cell_type": "markdown",
      "source": [
        "## Normal CNN"
      ],
      "metadata": {
        "id": "TU-yOXlQcC8I"
      }
    },
    {
      "cell_type": "code",
      "source": [
        "# Convolutional Neural Network\n",
        "class CNN(nn.Module):\n",
        "    def __init__(self):\n",
        "        super().__init__()\n",
        "        self.layer1 = nn.Sequential(\n",
        "            nn.Conv2d(3,16,3,padding=1),\n",
        "            nn.ReLU(),\n",
        "            nn.MaxPool2d(2,2))\n",
        "        self.layer2 = nn.Sequential(\n",
        "            nn.Conv2d(16,8,3,padding=1),\n",
        "            nn.ReLU(),\n",
        "            nn.MaxPool2d(2,2))\n",
        "        self.fc = nn.Sequential(\n",
        "            nn.Linear(8*32*32,32),\n",
        "            nn.ReLU(),\n",
        "            nn.Linear(32,26))\n",
        "    \n",
        "    def forward(self,x):\n",
        "        x = self.layer1(x)\n",
        "        x = self.layer2(x)\n",
        "        x = torch.flatten(x,1)\n",
        "        x = self.fc(x)\n",
        "        return x"
      ],
      "metadata": {
        "id": "ymg_WcV7T3hS"
      },
      "execution_count": 26,
      "outputs": []
    },
    {
      "cell_type": "code",
      "source": [
        "model = CNN()"
      ],
      "metadata": {
        "id": "QPZNAlhPyJuX"
      },
      "execution_count": 27,
      "outputs": []
    },
    {
      "cell_type": "code",
      "source": [
        "# classification -> CrossEntropyLoss\n",
        "# optimizer = Adam사용\n",
        "criterion = nn.CrossEntropyLoss()\n",
        "optimizer = optim.Adam(model.parameters(),lr=1e-3)"
      ],
      "metadata": {
        "id": "gTErhpB_2R6K"
      },
      "execution_count": 28,
      "outputs": []
    },
    {
      "cell_type": "code",
      "source": [
        "# number of parameters 공부\n",
        "summary(model,input_size=(3,128,128),batch_size=64)"
      ],
      "metadata": {
        "colab": {
          "base_uri": "https://localhost:8080/"
        },
        "id": "rOG-ormz2fy9",
        "outputId": "a7b0d2d9-7ef2-4fe8-bfba-d5a32bf35577"
      },
      "execution_count": 29,
      "outputs": [
        {
          "output_type": "stream",
          "name": "stdout",
          "text": [
            "----------------------------------------------------------------\n",
            "        Layer (type)               Output Shape         Param #\n",
            "================================================================\n",
            "            Conv2d-1         [64, 16, 128, 128]             448\n",
            "              ReLU-2         [64, 16, 128, 128]               0\n",
            "         MaxPool2d-3           [64, 16, 64, 64]               0\n",
            "            Conv2d-4            [64, 8, 64, 64]           1,160\n",
            "              ReLU-5            [64, 8, 64, 64]               0\n",
            "         MaxPool2d-6            [64, 8, 32, 32]               0\n",
            "            Linear-7                   [64, 32]         262,176\n",
            "              ReLU-8                   [64, 32]               0\n",
            "            Linear-9                   [64, 26]             858\n",
            "================================================================\n",
            "Total params: 264,642\n",
            "Trainable params: 264,642\n",
            "Non-trainable params: 0\n",
            "----------------------------------------------------------------\n",
            "Input size (MB): 12.00\n",
            "Forward/backward pass size (MB): 324.04\n",
            "Params size (MB): 1.01\n",
            "Estimated Total Size (MB): 337.05\n",
            "----------------------------------------------------------------\n"
          ]
        }
      ]
    },
    {
      "cell_type": "code",
      "source": [
        "len(train_loader.dataset)/64 # batch_size에 따라 몇번의 학습이 이루어지는지"
      ],
      "metadata": {
        "colab": {
          "base_uri": "https://localhost:8080/"
        },
        "id": "FyKUJh7MHcem",
        "outputId": "913c9a50-dd94-43a8-d1f7-3d65d1e58fb0"
      },
      "execution_count": 30,
      "outputs": [
        {
          "output_type": "execute_result",
          "data": {
            "text/plain": [
              "47.671875"
            ]
          },
          "metadata": {},
          "execution_count": 30
        }
      ]
    },
    {
      "cell_type": "code",
      "source": [
        "def train(epoch):\n",
        "    model.train()\n",
        "\n",
        "    train_loss = 0\n",
        "    correct = 0\n",
        "    for i, (input,label) in enumerate(train_loader):\n",
        "        output = model(input)\n",
        "        loss = criterion(output,label)\n",
        "        optimizer.zero_grad()\n",
        "        loss.backward()\n",
        "        optimizer.step()\n",
        "\n",
        "        train_loss += loss.item()\n",
        "        correct += (output.argmax(dim=1) == label).type(torch.float).sum().item()\n",
        "        # 10번의 배치를 학습할 때마다 출력\n",
        "        if (i+1)%10 == 0:\n",
        "            print('Train Epoch: {} [{}/{} ({:.0f}%)] \\tLoss: {:.3f} \\tAccuracy: {:.2f}%'.format(\n",
        "            epoch+1,\n",
        "            (i+1) * len(input),\n",
        "            len(train_loader.dataset),\n",
        "            100. * (i+1) / len(train_loader),\n",
        "            loss.item(),\n",
        "            100. * correct / ((i+1) * len(input))))"
      ],
      "metadata": {
        "id": "8qThwCQa2kpU"
      },
      "execution_count": 31,
      "outputs": []
    },
    {
      "cell_type": "code",
      "source": [
        "def test(data_loader):\n",
        "    model.eval()\n",
        "\n",
        "    test_loss =0\n",
        "    correct = 0\n",
        "    for input,label in data_loader:\n",
        "        output = model(input)\n",
        "\n",
        "        test_loss += criterion(output,label).item()\n",
        "        correct += (output.argmax(dim=1)==label).type(torch.float).sum().item()\n",
        "\n",
        "    test_loss /= len(test_loader)\n",
        "    accuracy  = 100. * correct / len(valid_loader.dataset)\n",
        "\n",
        "    print(f\"\\nTest set: Average loss: {test_loss:.2f}, Accuracy: {accuracy:.0f}%\\n\") "
      ],
      "metadata": {
        "id": "XOfRGJhs_KO-"
      },
      "execution_count": 32,
      "outputs": []
    },
    {
      "cell_type": "code",
      "source": [
        "# 특정 epoch부터 overfitting이 일어나는 것을 확인할 수 있다\n",
        "model = CNN()\n",
        "optimizer = optim.Adam(model.parameters(),lr=1e-3)\n",
        "for epoch in range(15):\n",
        "    train(epoch)\n",
        "    test(valid_loader)"
      ],
      "metadata": {
        "colab": {
          "base_uri": "https://localhost:8080/"
        },
        "id": "lgCdxdUnEWrd",
        "outputId": "68d78717-6ce1-4527-ab86-80ccec75e676"
      },
      "execution_count": 33,
      "outputs": [
        {
          "output_type": "stream",
          "name": "stdout",
          "text": [
            "Train Epoch: 1 [640/3051 (21%)] \tLoss: 3.240 \tAccuracy: 4.06%\n",
            "Train Epoch: 1 [1280/3051 (42%)] \tLoss: 3.209 \tAccuracy: 6.02%\n",
            "Train Epoch: 1 [1920/3051 (62%)] \tLoss: 3.003 \tAccuracy: 7.76%\n",
            "Train Epoch: 1 [2560/3051 (83%)] \tLoss: 2.895 \tAccuracy: 9.06%\n",
            "\n",
            "Test set: Average loss: 3.06, Accuracy: 15%\n",
            "\n",
            "Train Epoch: 2 [640/3051 (21%)] \tLoss: 2.718 \tAccuracy: 20.31%\n",
            "Train Epoch: 2 [1280/3051 (42%)] \tLoss: 2.412 \tAccuracy: 22.58%\n",
            "Train Epoch: 2 [1920/3051 (62%)] \tLoss: 2.593 \tAccuracy: 26.04%\n",
            "Train Epoch: 2 [2560/3051 (83%)] \tLoss: 2.425 \tAccuracy: 27.15%\n",
            "\n",
            "Test set: Average loss: 2.68, Accuracy: 35%\n",
            "\n",
            "Train Epoch: 3 [640/3051 (21%)] \tLoss: 1.993 \tAccuracy: 40.78%\n",
            "Train Epoch: 3 [1280/3051 (42%)] \tLoss: 1.996 \tAccuracy: 41.48%\n",
            "Train Epoch: 3 [1920/3051 (62%)] \tLoss: 1.709 \tAccuracy: 42.34%\n",
            "Train Epoch: 3 [2560/3051 (83%)] \tLoss: 2.098 \tAccuracy: 42.89%\n",
            "\n",
            "Test set: Average loss: 2.54, Accuracy: 38%\n",
            "\n",
            "Train Epoch: 4 [640/3051 (21%)] \tLoss: 1.538 \tAccuracy: 47.03%\n",
            "Train Epoch: 4 [1280/3051 (42%)] \tLoss: 1.949 \tAccuracy: 48.12%\n",
            "Train Epoch: 4 [1920/3051 (62%)] \tLoss: 1.777 \tAccuracy: 47.97%\n",
            "Train Epoch: 4 [2560/3051 (83%)] \tLoss: 1.902 \tAccuracy: 48.32%\n",
            "\n",
            "Test set: Average loss: 1.77, Accuracy: 49%\n",
            "\n",
            "Train Epoch: 5 [640/3051 (21%)] \tLoss: 1.604 \tAccuracy: 56.41%\n",
            "Train Epoch: 5 [1280/3051 (42%)] \tLoss: 2.093 \tAccuracy: 54.38%\n",
            "Train Epoch: 5 [1920/3051 (62%)] \tLoss: 1.958 \tAccuracy: 54.22%\n",
            "Train Epoch: 5 [2560/3051 (83%)] \tLoss: 1.891 \tAccuracy: 54.18%\n",
            "\n",
            "Test set: Average loss: 2.09, Accuracy: 48%\n",
            "\n",
            "Train Epoch: 6 [640/3051 (21%)] \tLoss: 1.690 \tAccuracy: 58.28%\n",
            "Train Epoch: 6 [1280/3051 (42%)] \tLoss: 1.649 \tAccuracy: 56.95%\n",
            "Train Epoch: 6 [1920/3051 (62%)] \tLoss: 1.604 \tAccuracy: 58.02%\n",
            "Train Epoch: 6 [2560/3051 (83%)] \tLoss: 1.782 \tAccuracy: 57.97%\n",
            "\n",
            "Test set: Average loss: 1.93, Accuracy: 52%\n",
            "\n",
            "Train Epoch: 7 [640/3051 (21%)] \tLoss: 1.420 \tAccuracy: 60.47%\n",
            "Train Epoch: 7 [1280/3051 (42%)] \tLoss: 1.464 \tAccuracy: 60.94%\n",
            "Train Epoch: 7 [1920/3051 (62%)] \tLoss: 1.563 \tAccuracy: 60.52%\n",
            "Train Epoch: 7 [2560/3051 (83%)] \tLoss: 1.402 \tAccuracy: 60.39%\n",
            "\n",
            "Test set: Average loss: 1.45, Accuracy: 58%\n",
            "\n",
            "Train Epoch: 8 [640/3051 (21%)] \tLoss: 1.173 \tAccuracy: 65.47%\n",
            "Train Epoch: 8 [1280/3051 (42%)] \tLoss: 1.405 \tAccuracy: 65.78%\n",
            "Train Epoch: 8 [1920/3051 (62%)] \tLoss: 1.352 \tAccuracy: 65.10%\n",
            "Train Epoch: 8 [2560/3051 (83%)] \tLoss: 1.266 \tAccuracy: 65.08%\n",
            "\n",
            "Test set: Average loss: 1.62, Accuracy: 58%\n",
            "\n",
            "Train Epoch: 9 [640/3051 (21%)] \tLoss: 0.933 \tAccuracy: 66.56%\n",
            "Train Epoch: 9 [1280/3051 (42%)] \tLoss: 1.008 \tAccuracy: 67.97%\n",
            "Train Epoch: 9 [1920/3051 (62%)] \tLoss: 1.325 \tAccuracy: 68.28%\n",
            "Train Epoch: 9 [2560/3051 (83%)] \tLoss: 0.877 \tAccuracy: 68.44%\n",
            "\n",
            "Test set: Average loss: 1.73, Accuracy: 53%\n",
            "\n",
            "Train Epoch: 10 [640/3051 (21%)] \tLoss: 0.918 \tAccuracy: 71.09%\n",
            "Train Epoch: 10 [1280/3051 (42%)] \tLoss: 1.079 \tAccuracy: 70.86%\n",
            "Train Epoch: 10 [1920/3051 (62%)] \tLoss: 1.178 \tAccuracy: 71.20%\n",
            "Train Epoch: 10 [2560/3051 (83%)] \tLoss: 1.131 \tAccuracy: 71.56%\n",
            "\n",
            "Test set: Average loss: 1.71, Accuracy: 54%\n",
            "\n",
            "Train Epoch: 11 [640/3051 (21%)] \tLoss: 1.014 \tAccuracy: 73.59%\n",
            "Train Epoch: 11 [1280/3051 (42%)] \tLoss: 0.822 \tAccuracy: 74.53%\n",
            "Train Epoch: 11 [1920/3051 (62%)] \tLoss: 0.861 \tAccuracy: 74.84%\n",
            "Train Epoch: 11 [2560/3051 (83%)] \tLoss: 0.890 \tAccuracy: 74.57%\n",
            "\n",
            "Test set: Average loss: 1.44, Accuracy: 58%\n",
            "\n",
            "Train Epoch: 12 [640/3051 (21%)] \tLoss: 0.819 \tAccuracy: 78.44%\n",
            "Train Epoch: 12 [1280/3051 (42%)] \tLoss: 0.953 \tAccuracy: 78.75%\n",
            "Train Epoch: 12 [1920/3051 (62%)] \tLoss: 0.606 \tAccuracy: 77.40%\n",
            "Train Epoch: 12 [2560/3051 (83%)] \tLoss: 0.799 \tAccuracy: 77.15%\n",
            "\n",
            "Test set: Average loss: 1.83, Accuracy: 55%\n",
            "\n",
            "Train Epoch: 13 [640/3051 (21%)] \tLoss: 0.575 \tAccuracy: 82.50%\n",
            "Train Epoch: 13 [1280/3051 (42%)] \tLoss: 0.618 \tAccuracy: 81.17%\n",
            "Train Epoch: 13 [1920/3051 (62%)] \tLoss: 0.708 \tAccuracy: 79.22%\n",
            "Train Epoch: 13 [2560/3051 (83%)] \tLoss: 0.787 \tAccuracy: 78.95%\n",
            "\n",
            "Test set: Average loss: 1.49, Accuracy: 55%\n",
            "\n",
            "Train Epoch: 14 [640/3051 (21%)] \tLoss: 0.635 \tAccuracy: 81.41%\n",
            "Train Epoch: 14 [1280/3051 (42%)] \tLoss: 0.652 \tAccuracy: 82.19%\n",
            "Train Epoch: 14 [1920/3051 (62%)] \tLoss: 0.584 \tAccuracy: 83.12%\n",
            "Train Epoch: 14 [2560/3051 (83%)] \tLoss: 0.477 \tAccuracy: 82.50%\n",
            "\n",
            "Test set: Average loss: 1.46, Accuracy: 59%\n",
            "\n",
            "Train Epoch: 15 [640/3051 (21%)] \tLoss: 0.532 \tAccuracy: 83.59%\n",
            "Train Epoch: 15 [1280/3051 (42%)] \tLoss: 0.618 \tAccuracy: 83.98%\n",
            "Train Epoch: 15 [1920/3051 (62%)] \tLoss: 0.532 \tAccuracy: 84.11%\n",
            "Train Epoch: 15 [2560/3051 (83%)] \tLoss: 0.530 \tAccuracy: 83.91%\n",
            "\n",
            "Test set: Average loss: 1.51, Accuracy: 57%\n",
            "\n"
          ]
        }
      ]
    },
    {
      "cell_type": "markdown",
      "source": [
        "##Reducing Channels"
      ],
      "metadata": {
        "id": "ohN-GqWmeAaN"
      }
    },
    {
      "cell_type": "code",
      "source": [
        "# Overfitting 해결을 위하여 채널 수를 줄여봄\n",
        "class CNN2(nn.Module):\n",
        "    def __init__(self):\n",
        "        super().__init__()\n",
        "        self.layer1 = nn.Sequential(\n",
        "            nn.Conv2d(3,8,3,padding=1),\n",
        "            nn.ReLU(),\n",
        "            nn.MaxPool2d(2,2))\n",
        "        self.layer2 = nn.Sequential(\n",
        "            nn.Conv2d(8,4,3,padding=1),\n",
        "            nn.ReLU(),\n",
        "            nn.MaxPool2d(2,2))\n",
        "        self.fc = nn.Sequential(\n",
        "            nn.Linear(4*32*32,32),\n",
        "            nn.ReLU(),\n",
        "            nn.Linear(32,26))\n",
        "    \n",
        "    def forward(self,x):\n",
        "        x = self.layer1(x)\n",
        "        x = self.layer2(x)\n",
        "        x = torch.flatten(x,1)\n",
        "        x = self.fc(x)\n",
        "        return x"
      ],
      "metadata": {
        "id": "Mj2rPoi6eFHi"
      },
      "execution_count": 34,
      "outputs": []
    },
    {
      "cell_type": "code",
      "source": [
        "summary(CNN2(),(3,128,128),64) # parameter 수도 줄어든 것을 알 수 있다"
      ],
      "metadata": {
        "colab": {
          "base_uri": "https://localhost:8080/"
        },
        "id": "j_K08wp9sbPd",
        "outputId": "52d72546-4f97-4e36-a9df-61916c720b5b"
      },
      "execution_count": 46,
      "outputs": [
        {
          "output_type": "stream",
          "name": "stdout",
          "text": [
            "----------------------------------------------------------------\n",
            "        Layer (type)               Output Shape         Param #\n",
            "================================================================\n",
            "            Conv2d-1          [64, 8, 128, 128]             224\n",
            "              ReLU-2          [64, 8, 128, 128]               0\n",
            "         MaxPool2d-3            [64, 8, 64, 64]               0\n",
            "            Conv2d-4            [64, 4, 64, 64]             292\n",
            "              ReLU-5            [64, 4, 64, 64]               0\n",
            "         MaxPool2d-6            [64, 4, 32, 32]               0\n",
            "            Linear-7                   [64, 32]         131,104\n",
            "              ReLU-8                   [64, 32]               0\n",
            "            Linear-9                   [64, 26]             858\n",
            "================================================================\n",
            "Total params: 132,478\n",
            "Trainable params: 132,478\n",
            "Non-trainable params: 0\n",
            "----------------------------------------------------------------\n",
            "Input size (MB): 12.00\n",
            "Forward/backward pass size (MB): 162.04\n",
            "Params size (MB): 0.51\n",
            "Estimated Total Size (MB): 174.55\n",
            "----------------------------------------------------------------\n"
          ]
        }
      ]
    },
    {
      "cell_type": "code",
      "source": [
        "# 유의미하게 overfitting을 해결하지는 못하는 것 같다\n",
        "model = CNN2()\n",
        "optimizer = optim.Adam(model.parameters(),lr=1e-3)\n",
        "for epoch in range(15):\n",
        "    train(epoch)\n",
        "    test(valid_loader)"
      ],
      "metadata": {
        "id": "dQKjjbWoePZX"
      },
      "execution_count": null,
      "outputs": []
    },
    {
      "cell_type": "markdown",
      "source": [
        "##CNN with Batch Normalization and Dropout"
      ],
      "metadata": {
        "id": "xCTT3oUDcGnA"
      }
    },
    {
      "cell_type": "code",
      "source": [
        "# Batch Normalization과 Dropout을 적용해보았다\n",
        "class CNN_with_BN_DO(nn.Module):\n",
        "    def __init__(self):\n",
        "        super().__init__()\n",
        "        self.layer1 = nn.Sequential(\n",
        "            nn.Conv2d(3,16,3,padding=1),\n",
        "            nn.BatchNorm2d(16),\n",
        "            nn.ReLU(),\n",
        "            nn.Dropout(0.2),\n",
        "            nn.MaxPool2d(2,2))\n",
        "        self.layer2 = nn.Sequential(\n",
        "            nn.Conv2d(16,8,3,padding=1),\n",
        "            nn.BatchNorm2d(8),\n",
        "            nn.ReLU(),\n",
        "            nn.Dropout(0.2),\n",
        "            nn.MaxPool2d(2,2))\n",
        "        self.fc = nn.Sequential(\n",
        "            nn.Linear(8*32*32,32),\n",
        "            nn.ReLU(),\n",
        "            nn.Linear(32,26))\n",
        "    def forward(self,x):\n",
        "        x = self.layer1(x)\n",
        "        x = self.layer2(x)\n",
        "        x = torch.flatten(x,1)\n",
        "        x = self.fc(x)\n",
        "        return x"
      ],
      "metadata": {
        "id": "10TpPNAxEdle"
      },
      "execution_count": 60,
      "outputs": []
    },
    {
      "cell_type": "code",
      "source": [
        "summary(CNN_with_BN_DO(),(3,128,128),64)"
      ],
      "metadata": {
        "colab": {
          "base_uri": "https://localhost:8080/"
        },
        "id": "VBwHuu2qsNDi",
        "outputId": "efdd6598-def3-40a9-83e0-c5840b5be498"
      },
      "execution_count": 61,
      "outputs": [
        {
          "output_type": "stream",
          "name": "stdout",
          "text": [
            "----------------------------------------------------------------\n",
            "        Layer (type)               Output Shape         Param #\n",
            "================================================================\n",
            "            Conv2d-1         [64, 16, 128, 128]             448\n",
            "       BatchNorm2d-2         [64, 16, 128, 128]              32\n",
            "              ReLU-3         [64, 16, 128, 128]               0\n",
            "           Dropout-4         [64, 16, 128, 128]               0\n",
            "         MaxPool2d-5           [64, 16, 64, 64]               0\n",
            "            Conv2d-6            [64, 8, 64, 64]           1,160\n",
            "       BatchNorm2d-7            [64, 8, 64, 64]              16\n",
            "              ReLU-8            [64, 8, 64, 64]               0\n",
            "           Dropout-9            [64, 8, 64, 64]               0\n",
            "        MaxPool2d-10            [64, 8, 32, 32]               0\n",
            "           Linear-11                   [64, 32]         262,176\n",
            "             ReLU-12                   [64, 32]               0\n",
            "           Linear-13                   [64, 26]             858\n",
            "================================================================\n",
            "Total params: 264,690\n",
            "Trainable params: 264,690\n",
            "Non-trainable params: 0\n",
            "----------------------------------------------------------------\n",
            "Input size (MB): 12.00\n",
            "Forward/backward pass size (MB): 612.04\n",
            "Params size (MB): 1.01\n",
            "Estimated Total Size (MB): 625.05\n",
            "----------------------------------------------------------------\n"
          ]
        }
      ]
    },
    {
      "cell_type": "code",
      "source": [
        "# 역시나 Overfitting이 심하다\n",
        "model = CNN_with_BN_DO()\n",
        "optimizer = optim.Adam(model.parameters(),lr=1e-3)\n",
        "for epoch in range(15):\n",
        "    train(epoch)\n",
        "    test(valid_loader)"
      ],
      "metadata": {
        "colab": {
          "base_uri": "https://localhost:8080/"
        },
        "id": "5EAlLDDQfwbo",
        "outputId": "57a3902b-63cd-4874-d0ba-73a7e7366382"
      },
      "execution_count": 62,
      "outputs": [
        {
          "output_type": "stream",
          "name": "stdout",
          "text": [
            "Train Epoch: 1 [640/3051 (21%)] \tLoss: 2.925 \tAccuracy: 12.50%\n",
            "Train Epoch: 1 [1280/3051 (42%)] \tLoss: 3.071 \tAccuracy: 13.44%\n",
            "Train Epoch: 1 [1920/3051 (62%)] \tLoss: 2.715 \tAccuracy: 15.42%\n",
            "Train Epoch: 1 [2560/3051 (83%)] \tLoss: 2.909 \tAccuracy: 18.20%\n",
            "\n",
            "Test set: Average loss: 2.91, Accuracy: 19%\n",
            "\n",
            "Train Epoch: 2 [640/3051 (21%)] \tLoss: 2.824 \tAccuracy: 28.28%\n",
            "Train Epoch: 2 [1280/3051 (42%)] \tLoss: 2.365 \tAccuracy: 28.75%\n",
            "Train Epoch: 2 [1920/3051 (62%)] \tLoss: 2.530 \tAccuracy: 30.42%\n",
            "Train Epoch: 2 [2560/3051 (83%)] \tLoss: 2.287 \tAccuracy: 30.94%\n",
            "\n",
            "Test set: Average loss: 2.53, Accuracy: 32%\n",
            "\n",
            "Train Epoch: 3 [640/3051 (21%)] \tLoss: 2.247 \tAccuracy: 35.78%\n",
            "Train Epoch: 3 [1280/3051 (42%)] \tLoss: 2.167 \tAccuracy: 36.80%\n",
            "Train Epoch: 3 [1920/3051 (62%)] \tLoss: 2.078 \tAccuracy: 38.54%\n",
            "Train Epoch: 3 [2560/3051 (83%)] \tLoss: 2.207 \tAccuracy: 39.34%\n",
            "\n",
            "Test set: Average loss: 2.12, Accuracy: 35%\n",
            "\n",
            "Train Epoch: 4 [640/3051 (21%)] \tLoss: 1.975 \tAccuracy: 47.97%\n",
            "Train Epoch: 4 [1280/3051 (42%)] \tLoss: 1.895 \tAccuracy: 47.11%\n",
            "Train Epoch: 4 [1920/3051 (62%)] \tLoss: 1.667 \tAccuracy: 48.65%\n",
            "Train Epoch: 4 [2560/3051 (83%)] \tLoss: 1.802 \tAccuracy: 48.40%\n",
            "\n",
            "Test set: Average loss: 1.91, Accuracy: 37%\n",
            "\n",
            "Train Epoch: 5 [640/3051 (21%)] \tLoss: 1.591 \tAccuracy: 57.81%\n",
            "Train Epoch: 5 [1280/3051 (42%)] \tLoss: 1.386 \tAccuracy: 57.11%\n",
            "Train Epoch: 5 [1920/3051 (62%)] \tLoss: 1.215 \tAccuracy: 57.71%\n",
            "Train Epoch: 5 [2560/3051 (83%)] \tLoss: 1.581 \tAccuracy: 57.54%\n",
            "\n",
            "Test set: Average loss: 1.94, Accuracy: 44%\n",
            "\n",
            "Train Epoch: 6 [640/3051 (21%)] \tLoss: 1.550 \tAccuracy: 58.12%\n",
            "Train Epoch: 6 [1280/3051 (42%)] \tLoss: 1.272 \tAccuracy: 60.23%\n",
            "Train Epoch: 6 [1920/3051 (62%)] \tLoss: 1.178 \tAccuracy: 61.67%\n",
            "Train Epoch: 6 [2560/3051 (83%)] \tLoss: 1.296 \tAccuracy: 61.56%\n",
            "\n",
            "Test set: Average loss: 1.49, Accuracy: 58%\n",
            "\n",
            "Train Epoch: 7 [640/3051 (21%)] \tLoss: 1.142 \tAccuracy: 63.75%\n",
            "Train Epoch: 7 [1280/3051 (42%)] \tLoss: 1.066 \tAccuracy: 64.84%\n",
            "Train Epoch: 7 [1920/3051 (62%)] \tLoss: 1.385 \tAccuracy: 64.53%\n",
            "Train Epoch: 7 [2560/3051 (83%)] \tLoss: 1.214 \tAccuracy: 64.92%\n",
            "\n",
            "Test set: Average loss: 1.53, Accuracy: 52%\n",
            "\n",
            "Train Epoch: 8 [640/3051 (21%)] \tLoss: 0.963 \tAccuracy: 69.53%\n",
            "Train Epoch: 8 [1280/3051 (42%)] \tLoss: 0.791 \tAccuracy: 70.16%\n",
            "Train Epoch: 8 [1920/3051 (62%)] \tLoss: 1.213 \tAccuracy: 69.84%\n",
            "Train Epoch: 8 [2560/3051 (83%)] \tLoss: 0.912 \tAccuracy: 69.06%\n",
            "\n",
            "Test set: Average loss: 1.46, Accuracy: 53%\n",
            "\n",
            "Train Epoch: 9 [640/3051 (21%)] \tLoss: 0.798 \tAccuracy: 73.28%\n",
            "Train Epoch: 9 [1280/3051 (42%)] \tLoss: 0.930 \tAccuracy: 73.75%\n",
            "Train Epoch: 9 [1920/3051 (62%)] \tLoss: 0.646 \tAccuracy: 73.70%\n",
            "Train Epoch: 9 [2560/3051 (83%)] \tLoss: 1.005 \tAccuracy: 73.20%\n",
            "\n",
            "Test set: Average loss: 1.48, Accuracy: 54%\n",
            "\n",
            "Train Epoch: 10 [640/3051 (21%)] \tLoss: 0.835 \tAccuracy: 75.00%\n",
            "Train Epoch: 10 [1280/3051 (42%)] \tLoss: 0.730 \tAccuracy: 75.62%\n",
            "Train Epoch: 10 [1920/3051 (62%)] \tLoss: 0.908 \tAccuracy: 75.68%\n",
            "Train Epoch: 10 [2560/3051 (83%)] \tLoss: 0.791 \tAccuracy: 76.29%\n",
            "\n",
            "Test set: Average loss: 1.25, Accuracy: 58%\n",
            "\n",
            "Train Epoch: 11 [640/3051 (21%)] \tLoss: 0.560 \tAccuracy: 82.97%\n",
            "Train Epoch: 11 [1280/3051 (42%)] \tLoss: 0.631 \tAccuracy: 82.81%\n",
            "Train Epoch: 11 [1920/3051 (62%)] \tLoss: 0.833 \tAccuracy: 81.09%\n",
            "Train Epoch: 11 [2560/3051 (83%)] \tLoss: 0.848 \tAccuracy: 80.20%\n",
            "\n",
            "Test set: Average loss: 1.28, Accuracy: 55%\n",
            "\n",
            "Train Epoch: 12 [640/3051 (21%)] \tLoss: 0.792 \tAccuracy: 81.88%\n",
            "Train Epoch: 12 [1280/3051 (42%)] \tLoss: 0.525 \tAccuracy: 82.19%\n",
            "Train Epoch: 12 [1920/3051 (62%)] \tLoss: 0.813 \tAccuracy: 81.93%\n",
            "Train Epoch: 12 [2560/3051 (83%)] \tLoss: 0.680 \tAccuracy: 81.60%\n",
            "\n",
            "Test set: Average loss: 1.20, Accuracy: 60%\n",
            "\n",
            "Train Epoch: 13 [640/3051 (21%)] \tLoss: 0.565 \tAccuracy: 83.12%\n",
            "Train Epoch: 13 [1280/3051 (42%)] \tLoss: 0.471 \tAccuracy: 84.06%\n",
            "Train Epoch: 13 [1920/3051 (62%)] \tLoss: 0.579 \tAccuracy: 84.06%\n",
            "Train Epoch: 13 [2560/3051 (83%)] \tLoss: 0.488 \tAccuracy: 84.18%\n",
            "\n",
            "Test set: Average loss: 1.65, Accuracy: 59%\n",
            "\n",
            "Train Epoch: 14 [640/3051 (21%)] \tLoss: 0.282 \tAccuracy: 87.34%\n",
            "Train Epoch: 14 [1280/3051 (42%)] \tLoss: 0.453 \tAccuracy: 87.66%\n",
            "Train Epoch: 14 [1920/3051 (62%)] \tLoss: 0.665 \tAccuracy: 86.93%\n",
            "Train Epoch: 14 [2560/3051 (83%)] \tLoss: 0.794 \tAccuracy: 86.88%\n",
            "\n",
            "Test set: Average loss: 1.56, Accuracy: 58%\n",
            "\n",
            "Train Epoch: 15 [640/3051 (21%)] \tLoss: 0.458 \tAccuracy: 88.44%\n",
            "Train Epoch: 15 [1280/3051 (42%)] \tLoss: 0.484 \tAccuracy: 88.91%\n",
            "Train Epoch: 15 [1920/3051 (62%)] \tLoss: 0.419 \tAccuracy: 88.44%\n",
            "Train Epoch: 15 [2560/3051 (83%)] \tLoss: 0.380 \tAccuracy: 88.52%\n",
            "\n",
            "Test set: Average loss: 1.52, Accuracy: 59%\n",
            "\n"
          ]
        }
      ]
    },
    {
      "cell_type": "code",
      "source": [
        ""
      ],
      "metadata": {
        "id": "FOBSq2RRrg30"
      },
      "execution_count": null,
      "outputs": []
    }
  ]
}